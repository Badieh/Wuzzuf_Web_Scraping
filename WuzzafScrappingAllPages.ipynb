{
 "cells": [
  {
   "cell_type": "markdown",
   "metadata": {},
   "source": [
    "\n"
   ]
  },
  {
   "cell_type": "markdown",
   "metadata": {},
   "source": [
    "# Wuzzaf Scrapping Data for ITs jobs Full pages\n",
    "## Tasks :\n",
    "- Collecting new jobs from the site (2021)\n",
    "- merge the new data with the old data\n",
    "- Perform a comprehensive analysis of the collected data\n",
    "\n",
    "`By : Badieh Nader`"
   ]
  },
  {
   "cell_type": "code",
   "execution_count": 1,
   "metadata": {},
   "outputs": [],
   "source": [
    "# Importing required liberaries\n",
    "import numpy as np\n",
    "import pandas as pd\n",
    "import matplotlib.pyplot as plt\n",
    "%matplotlib inline\n",
    "from bs4 import BeautifulSoup as bs\n",
    "from urllib.request import urlopen\n",
    "import csv\n",
    "import re\n",
    "from functools import reduce\n",
    "import seaborn as sb\n"
   ]
  },
  {
   "cell_type": "markdown",
   "metadata": {},
   "source": [
    "## 2021 Data\n",
    "- 2634  jobs found\n",
    "- 132 pages"
   ]
  },
  {
   "cell_type": "code",
   "execution_count": 116,
   "metadata": {},
   "outputs": [],
   "source": [
    "# Getting the urls \n",
    "x=list(range(132))\n",
    "limit=2634\n",
    "keys=0\n",
    "urls=[]\n",
    "for i in x:\n",
    "    key=keys\n",
    "    y = str(key)\n",
    "    url='https://wuzzuf.net/a/IT-Software-Development-Jobs-in-Egypt?start='+y\n",
    "    urls.append(url)\n",
    "    keys+=20\n",
    "    if key==limit:\n",
    "        break"
   ]
  },
  {
   "cell_type": "code",
   "execution_count": 171,
   "metadata": {},
   "outputs": [
    {
     "name": "stdout",
     "output_type": "stream",
     "text": [
      "https://wuzzuf.net/a/IT-Software-Development-Jobs-in-Egypt?start=0\n",
      "https://wuzzuf.net/a/IT-Software-Development-Jobs-in-Egypt?start=20\n",
      "https://wuzzuf.net/a/IT-Software-Development-Jobs-in-Egypt?start=40\n",
      "https://wuzzuf.net/a/IT-Software-Development-Jobs-in-Egypt?start=60\n",
      "https://wuzzuf.net/a/IT-Software-Development-Jobs-in-Egypt?start=80\n",
      "https://wuzzuf.net/a/IT-Software-Development-Jobs-in-Egypt?start=100\n",
      "https://wuzzuf.net/a/IT-Software-Development-Jobs-in-Egypt?start=120\n",
      "https://wuzzuf.net/a/IT-Software-Development-Jobs-in-Egypt?start=140\n",
      "https://wuzzuf.net/a/IT-Software-Development-Jobs-in-Egypt?start=160\n",
      "https://wuzzuf.net/a/IT-Software-Development-Jobs-in-Egypt?start=180\n",
      "https://wuzzuf.net/a/IT-Software-Development-Jobs-in-Egypt?start=200\n",
      "https://wuzzuf.net/a/IT-Software-Development-Jobs-in-Egypt?start=220\n",
      "https://wuzzuf.net/a/IT-Software-Development-Jobs-in-Egypt?start=240\n",
      "https://wuzzuf.net/a/IT-Software-Development-Jobs-in-Egypt?start=260\n",
      "https://wuzzuf.net/a/IT-Software-Development-Jobs-in-Egypt?start=280\n",
      "https://wuzzuf.net/a/IT-Software-Development-Jobs-in-Egypt?start=300\n",
      "https://wuzzuf.net/a/IT-Software-Development-Jobs-in-Egypt?start=320\n",
      "https://wuzzuf.net/a/IT-Software-Development-Jobs-in-Egypt?start=340\n",
      "https://wuzzuf.net/a/IT-Software-Development-Jobs-in-Egypt?start=360\n",
      "https://wuzzuf.net/a/IT-Software-Development-Jobs-in-Egypt?start=380\n",
      "https://wuzzuf.net/a/IT-Software-Development-Jobs-in-Egypt?start=400\n",
      "https://wuzzuf.net/a/IT-Software-Development-Jobs-in-Egypt?start=420\n",
      "https://wuzzuf.net/a/IT-Software-Development-Jobs-in-Egypt?start=440\n",
      "https://wuzzuf.net/a/IT-Software-Development-Jobs-in-Egypt?start=460\n",
      "https://wuzzuf.net/a/IT-Software-Development-Jobs-in-Egypt?start=480\n",
      "https://wuzzuf.net/a/IT-Software-Development-Jobs-in-Egypt?start=500\n",
      "https://wuzzuf.net/a/IT-Software-Development-Jobs-in-Egypt?start=520\n",
      "https://wuzzuf.net/a/IT-Software-Development-Jobs-in-Egypt?start=540\n",
      "https://wuzzuf.net/a/IT-Software-Development-Jobs-in-Egypt?start=560\n",
      "https://wuzzuf.net/a/IT-Software-Development-Jobs-in-Egypt?start=580\n",
      "https://wuzzuf.net/a/IT-Software-Development-Jobs-in-Egypt?start=600\n",
      "https://wuzzuf.net/a/IT-Software-Development-Jobs-in-Egypt?start=620\n",
      "https://wuzzuf.net/a/IT-Software-Development-Jobs-in-Egypt?start=640\n",
      "https://wuzzuf.net/a/IT-Software-Development-Jobs-in-Egypt?start=660\n",
      "https://wuzzuf.net/a/IT-Software-Development-Jobs-in-Egypt?start=680\n",
      "https://wuzzuf.net/a/IT-Software-Development-Jobs-in-Egypt?start=700\n",
      "https://wuzzuf.net/a/IT-Software-Development-Jobs-in-Egypt?start=720\n",
      "https://wuzzuf.net/a/IT-Software-Development-Jobs-in-Egypt?start=740\n",
      "https://wuzzuf.net/a/IT-Software-Development-Jobs-in-Egypt?start=760\n",
      "https://wuzzuf.net/a/IT-Software-Development-Jobs-in-Egypt?start=780\n",
      "https://wuzzuf.net/a/IT-Software-Development-Jobs-in-Egypt?start=800\n",
      "https://wuzzuf.net/a/IT-Software-Development-Jobs-in-Egypt?start=820\n",
      "https://wuzzuf.net/a/IT-Software-Development-Jobs-in-Egypt?start=840\n",
      "https://wuzzuf.net/a/IT-Software-Development-Jobs-in-Egypt?start=860\n",
      "https://wuzzuf.net/a/IT-Software-Development-Jobs-in-Egypt?start=880\n",
      "https://wuzzuf.net/a/IT-Software-Development-Jobs-in-Egypt?start=900\n",
      "https://wuzzuf.net/a/IT-Software-Development-Jobs-in-Egypt?start=920\n",
      "https://wuzzuf.net/a/IT-Software-Development-Jobs-in-Egypt?start=940\n",
      "https://wuzzuf.net/a/IT-Software-Development-Jobs-in-Egypt?start=960\n",
      "https://wuzzuf.net/a/IT-Software-Development-Jobs-in-Egypt?start=980\n",
      "https://wuzzuf.net/a/IT-Software-Development-Jobs-in-Egypt?start=1000\n",
      "https://wuzzuf.net/a/IT-Software-Development-Jobs-in-Egypt?start=1020\n",
      "https://wuzzuf.net/a/IT-Software-Development-Jobs-in-Egypt?start=1040\n",
      "https://wuzzuf.net/a/IT-Software-Development-Jobs-in-Egypt?start=1060\n",
      "https://wuzzuf.net/a/IT-Software-Development-Jobs-in-Egypt?start=1080\n",
      "https://wuzzuf.net/a/IT-Software-Development-Jobs-in-Egypt?start=1100\n",
      "https://wuzzuf.net/a/IT-Software-Development-Jobs-in-Egypt?start=1120\n",
      "https://wuzzuf.net/a/IT-Software-Development-Jobs-in-Egypt?start=1140\n",
      "https://wuzzuf.net/a/IT-Software-Development-Jobs-in-Egypt?start=1160\n",
      "https://wuzzuf.net/a/IT-Software-Development-Jobs-in-Egypt?start=1180\n",
      "https://wuzzuf.net/a/IT-Software-Development-Jobs-in-Egypt?start=1200\n",
      "https://wuzzuf.net/a/IT-Software-Development-Jobs-in-Egypt?start=1220\n",
      "https://wuzzuf.net/a/IT-Software-Development-Jobs-in-Egypt?start=1240\n",
      "https://wuzzuf.net/a/IT-Software-Development-Jobs-in-Egypt?start=1260\n",
      "https://wuzzuf.net/a/IT-Software-Development-Jobs-in-Egypt?start=1280\n",
      "https://wuzzuf.net/a/IT-Software-Development-Jobs-in-Egypt?start=1300\n",
      "https://wuzzuf.net/a/IT-Software-Development-Jobs-in-Egypt?start=1320\n",
      "https://wuzzuf.net/a/IT-Software-Development-Jobs-in-Egypt?start=1340\n",
      "https://wuzzuf.net/a/IT-Software-Development-Jobs-in-Egypt?start=1360\n",
      "https://wuzzuf.net/a/IT-Software-Development-Jobs-in-Egypt?start=1380\n",
      "https://wuzzuf.net/a/IT-Software-Development-Jobs-in-Egypt?start=1400\n",
      "https://wuzzuf.net/a/IT-Software-Development-Jobs-in-Egypt?start=1420\n",
      "https://wuzzuf.net/a/IT-Software-Development-Jobs-in-Egypt?start=1440\n",
      "https://wuzzuf.net/a/IT-Software-Development-Jobs-in-Egypt?start=1460\n",
      "https://wuzzuf.net/a/IT-Software-Development-Jobs-in-Egypt?start=1480\n",
      "https://wuzzuf.net/a/IT-Software-Development-Jobs-in-Egypt?start=1500\n",
      "https://wuzzuf.net/a/IT-Software-Development-Jobs-in-Egypt?start=1520\n",
      "https://wuzzuf.net/a/IT-Software-Development-Jobs-in-Egypt?start=1540\n",
      "https://wuzzuf.net/a/IT-Software-Development-Jobs-in-Egypt?start=1560\n",
      "https://wuzzuf.net/a/IT-Software-Development-Jobs-in-Egypt?start=1580\n",
      "https://wuzzuf.net/a/IT-Software-Development-Jobs-in-Egypt?start=1600\n",
      "https://wuzzuf.net/a/IT-Software-Development-Jobs-in-Egypt?start=1620\n",
      "https://wuzzuf.net/a/IT-Software-Development-Jobs-in-Egypt?start=1640\n",
      "https://wuzzuf.net/a/IT-Software-Development-Jobs-in-Egypt?start=1660\n",
      "https://wuzzuf.net/a/IT-Software-Development-Jobs-in-Egypt?start=1680\n",
      "https://wuzzuf.net/a/IT-Software-Development-Jobs-in-Egypt?start=1700\n",
      "https://wuzzuf.net/a/IT-Software-Development-Jobs-in-Egypt?start=1720\n",
      "https://wuzzuf.net/a/IT-Software-Development-Jobs-in-Egypt?start=1740\n",
      "https://wuzzuf.net/a/IT-Software-Development-Jobs-in-Egypt?start=1760\n",
      "https://wuzzuf.net/a/IT-Software-Development-Jobs-in-Egypt?start=1780\n",
      "https://wuzzuf.net/a/IT-Software-Development-Jobs-in-Egypt?start=1800\n",
      "https://wuzzuf.net/a/IT-Software-Development-Jobs-in-Egypt?start=1820\n",
      "https://wuzzuf.net/a/IT-Software-Development-Jobs-in-Egypt?start=1840\n",
      "https://wuzzuf.net/a/IT-Software-Development-Jobs-in-Egypt?start=1860\n",
      "https://wuzzuf.net/a/IT-Software-Development-Jobs-in-Egypt?start=1880\n",
      "https://wuzzuf.net/a/IT-Software-Development-Jobs-in-Egypt?start=1900\n",
      "https://wuzzuf.net/a/IT-Software-Development-Jobs-in-Egypt?start=1920\n",
      "https://wuzzuf.net/a/IT-Software-Development-Jobs-in-Egypt?start=1940\n",
      "https://wuzzuf.net/a/IT-Software-Development-Jobs-in-Egypt?start=1960\n",
      "https://wuzzuf.net/a/IT-Software-Development-Jobs-in-Egypt?start=1980\n",
      "https://wuzzuf.net/a/IT-Software-Development-Jobs-in-Egypt?start=2000\n",
      "https://wuzzuf.net/a/IT-Software-Development-Jobs-in-Egypt?start=2020\n",
      "https://wuzzuf.net/a/IT-Software-Development-Jobs-in-Egypt?start=2040\n",
      "https://wuzzuf.net/a/IT-Software-Development-Jobs-in-Egypt?start=2060\n",
      "https://wuzzuf.net/a/IT-Software-Development-Jobs-in-Egypt?start=2080\n",
      "https://wuzzuf.net/a/IT-Software-Development-Jobs-in-Egypt?start=2100\n",
      "https://wuzzuf.net/a/IT-Software-Development-Jobs-in-Egypt?start=2120\n",
      "https://wuzzuf.net/a/IT-Software-Development-Jobs-in-Egypt?start=2140\n",
      "https://wuzzuf.net/a/IT-Software-Development-Jobs-in-Egypt?start=2160\n",
      "https://wuzzuf.net/a/IT-Software-Development-Jobs-in-Egypt?start=2180\n",
      "https://wuzzuf.net/a/IT-Software-Development-Jobs-in-Egypt?start=2200\n",
      "https://wuzzuf.net/a/IT-Software-Development-Jobs-in-Egypt?start=2220\n",
      "https://wuzzuf.net/a/IT-Software-Development-Jobs-in-Egypt?start=2240\n",
      "https://wuzzuf.net/a/IT-Software-Development-Jobs-in-Egypt?start=2260\n",
      "https://wuzzuf.net/a/IT-Software-Development-Jobs-in-Egypt?start=2280\n",
      "https://wuzzuf.net/a/IT-Software-Development-Jobs-in-Egypt?start=2300\n",
      "https://wuzzuf.net/a/IT-Software-Development-Jobs-in-Egypt?start=2320\n",
      "https://wuzzuf.net/a/IT-Software-Development-Jobs-in-Egypt?start=2340\n"
     ]
    },
    {
     "name": "stdout",
     "output_type": "stream",
     "text": [
      "https://wuzzuf.net/a/IT-Software-Development-Jobs-in-Egypt?start=2360\n",
      "https://wuzzuf.net/a/IT-Software-Development-Jobs-in-Egypt?start=2380\n",
      "https://wuzzuf.net/a/IT-Software-Development-Jobs-in-Egypt?start=2400\n",
      "https://wuzzuf.net/a/IT-Software-Development-Jobs-in-Egypt?start=2420\n",
      "https://wuzzuf.net/a/IT-Software-Development-Jobs-in-Egypt?start=2440\n",
      "https://wuzzuf.net/a/IT-Software-Development-Jobs-in-Egypt?start=2460\n",
      "https://wuzzuf.net/a/IT-Software-Development-Jobs-in-Egypt?start=2480\n",
      "https://wuzzuf.net/a/IT-Software-Development-Jobs-in-Egypt?start=2500\n",
      "https://wuzzuf.net/a/IT-Software-Development-Jobs-in-Egypt?start=2520\n",
      "https://wuzzuf.net/a/IT-Software-Development-Jobs-in-Egypt?start=2540\n",
      "https://wuzzuf.net/a/IT-Software-Development-Jobs-in-Egypt?start=2560\n",
      "https://wuzzuf.net/a/IT-Software-Development-Jobs-in-Egypt?start=2580\n",
      "https://wuzzuf.net/a/IT-Software-Development-Jobs-in-Egypt?start=2600\n",
      "https://wuzzuf.net/a/IT-Software-Development-Jobs-in-Egypt?start=2620\n"
     ]
    }
   ],
   "source": [
    "# scrap every page url and save the data in a file\n",
    "f= open(\"wuzzaf_2021.csv\",\"w\",encoding='utf-8')\n",
    "header = \"job_URL,job_title,company_name,company_location,job_description\\n\"\n",
    "f.write(header) \n",
    "\n",
    "for url in urls:\n",
    "    print(url)    \n",
    "    client=urlopen(url)\n",
    "    html= client.read()\n",
    "    client.close()\n",
    "    soup = bs(html,\"html.parser\")\n",
    "    containers = soup.find_all(\"div\",{\"class\":\"result-wrp row\"}) \n",
    "    for container in containers:\n",
    "        job_job = container.findAll(\"h2\",{\"class\":\"job-title\"})\n",
    "        job_title = job_job[0].text.strip()\n",
    "        job_title = job_title.replace(',','-')\n",
    "        \n",
    "        \n",
    "        job_link = container.findAll('a',{\"class\":\"mobile-job-link\"}, href=True)\n",
    "        job_link = job_link[0]['href'].strip()\n",
    "        \n",
    "        company_name = container.findAll(\"span\",{\"class\":\"company-name\"})\n",
    "        company_name = company_name[0].text.strip()\n",
    "        company_name = company_name.replace(',','-')\n",
    "        \n",
    "        company_location=container.findAll(\"span\",{\"class\":\"location location-desktop\"})\n",
    "        company_location = company_location[0].text.strip()\n",
    "        company_location = company_location.replace(',','-')\n",
    "        \n",
    "        job_description = container.findAll(\"div\",{\"class\":\"job-details\"})\n",
    "        job_description = job_description[0].text.strip()\n",
    "        job_description = ' '.join(job_description.split())\n",
    "        job_description = job_description.replace(',','/')\n",
    "        \n",
    "        f.write(job_link+\", \"+job_title + \", \" + company_name +\", \"+company_location + \", \" + job_description + \"\\n \") \n",
    "            \n",
    "            \n",
    "f.close()"
   ]
  },
  {
   "cell_type": "code",
   "execution_count": 2,
   "metadata": {},
   "outputs": [
    {
     "data": {
      "text/html": [
       "<div>\n",
       "<style scoped>\n",
       "    .dataframe tbody tr th:only-of-type {\n",
       "        vertical-align: middle;\n",
       "    }\n",
       "\n",
       "    .dataframe tbody tr th {\n",
       "        vertical-align: top;\n",
       "    }\n",
       "\n",
       "    .dataframe thead th {\n",
       "        text-align: right;\n",
       "    }\n",
       "</style>\n",
       "<table border=\"1\" class=\"dataframe\">\n",
       "  <thead>\n",
       "    <tr style=\"text-align: right;\">\n",
       "      <th></th>\n",
       "      <th>job_URL</th>\n",
       "      <th>job_title</th>\n",
       "      <th>company_name</th>\n",
       "      <th>company_location</th>\n",
       "      <th>job_description</th>\n",
       "    </tr>\n",
       "  </thead>\n",
       "  <tbody>\n",
       "    <tr>\n",
       "      <th>0</th>\n",
       "      <td>https://wuzzuf.net/jobs/p/1623d22c-3de2-455a-a...</td>\n",
       "      <td>Business Development Specialist - Upper Egypt</td>\n",
       "      <td>golden</td>\n",
       "      <td>- Aswan- Egypt</td>\n",
       "      <td>Full Time · Experienced · 2+ Yrs of Exp · Bus...</td>\n",
       "    </tr>\n",
       "    <tr>\n",
       "      <th>1</th>\n",
       "      <td>https://wuzzuf.net/jobs/p/0efb55cc-3264-47b4-...</td>\n",
       "      <td>Senior/Intermediate .NET Core Developer (Remo...</td>\n",
       "      <td>Confidential</td>\n",
       "      <td>- Cairo- Egypt</td>\n",
       "      <td>Full Time · Experienced · 4+ Yrs of Exp · Sof...</td>\n",
       "    </tr>\n",
       "    <tr>\n",
       "      <th>2</th>\n",
       "      <td>https://wuzzuf.net/jobs/p/d76caa63-bc76-4839-...</td>\n",
       "      <td>Senior Software Developer</td>\n",
       "      <td>Bnsights</td>\n",
       "      <td>- New Cairo- Cairo</td>\n",
       "      <td>Full Time · Experienced · 6-10 Yrs of Exp · S...</td>\n",
       "    </tr>\n",
       "    <tr>\n",
       "      <th>3</th>\n",
       "      <td>https://wuzzuf.net/jobs/p/2ffe3403-b147-4b38-...</td>\n",
       "      <td>Software Developer / Desktop Development</td>\n",
       "      <td>ITS</td>\n",
       "      <td>- Nasr City- Cairo</td>\n",
       "      <td>Full Time · Entry Level · 0-2 Yrs of Exp · Co...</td>\n",
       "    </tr>\n",
       "    <tr>\n",
       "      <th>4</th>\n",
       "      <td>https://wuzzuf.net/jobs/p/b6ae6a6a-47b8-47f7-...</td>\n",
       "      <td>Senior Software Developer -Dynamics 365...</td>\n",
       "      <td>CrossWorkers</td>\n",
       "      <td>- New Cairo- Cairo</td>\n",
       "      <td>Full Time · Experienced · 4-12 Yrs of Exp · A...</td>\n",
       "    </tr>\n",
       "  </tbody>\n",
       "</table>\n",
       "</div>"
      ],
      "text/plain": [
       "                                             job_URL  \\\n",
       "0  https://wuzzuf.net/jobs/p/1623d22c-3de2-455a-a...   \n",
       "1   https://wuzzuf.net/jobs/p/0efb55cc-3264-47b4-...   \n",
       "2   https://wuzzuf.net/jobs/p/d76caa63-bc76-4839-...   \n",
       "3   https://wuzzuf.net/jobs/p/2ffe3403-b147-4b38-...   \n",
       "4   https://wuzzuf.net/jobs/p/b6ae6a6a-47b8-47f7-...   \n",
       "\n",
       "                                           job_title   company_name  \\\n",
       "0      Business Development Specialist - Upper Egypt         golden   \n",
       "1   Senior/Intermediate .NET Core Developer (Remo...   Confidential   \n",
       "2                          Senior Software Developer       Bnsights   \n",
       "3           Software Developer / Desktop Development            ITS   \n",
       "4         Senior Software Developer -Dynamics 365...   CrossWorkers   \n",
       "\n",
       "      company_location                                    job_description  \n",
       "0       - Aswan- Egypt   Full Time · Experienced · 2+ Yrs of Exp · Bus...  \n",
       "1       - Cairo- Egypt   Full Time · Experienced · 4+ Yrs of Exp · Sof...  \n",
       "2   - New Cairo- Cairo   Full Time · Experienced · 6-10 Yrs of Exp · S...  \n",
       "3   - Nasr City- Cairo   Full Time · Entry Level · 0-2 Yrs of Exp · Co...  \n",
       "4   - New Cairo- Cairo   Full Time · Experienced · 4-12 Yrs of Exp · A...  "
      ]
     },
     "execution_count": 2,
     "metadata": {},
     "output_type": "execute_result"
    }
   ],
   "source": [
    "# read the csv file with the 2021 data\n",
    "df = pd.read_csv(\"wuzzaf_2021.csv\")\n",
    "df.head()"
   ]
  },
  {
   "cell_type": "code",
   "execution_count": 6,
   "metadata": {},
   "outputs": [
    {
     "data": {
      "text/html": [
       "<div>\n",
       "<style scoped>\n",
       "    .dataframe tbody tr th:only-of-type {\n",
       "        vertical-align: middle;\n",
       "    }\n",
       "\n",
       "    .dataframe tbody tr th {\n",
       "        vertical-align: top;\n",
       "    }\n",
       "\n",
       "    .dataframe thead th {\n",
       "        text-align: right;\n",
       "    }\n",
       "</style>\n",
       "<table border=\"1\" class=\"dataframe\">\n",
       "  <thead>\n",
       "    <tr style=\"text-align: right;\">\n",
       "      <th></th>\n",
       "      <th>job_URL</th>\n",
       "      <th>job_title</th>\n",
       "      <th>company_name</th>\n",
       "      <th>company_location</th>\n",
       "      <th>job_description</th>\n",
       "      <th>job_time</th>\n",
       "    </tr>\n",
       "  </thead>\n",
       "  <tbody>\n",
       "    <tr>\n",
       "      <th>0</th>\n",
       "      <td>https://wuzzuf.net/jobs/p/1623d22c-3de2-455a-a...</td>\n",
       "      <td>Business Development Specialist - Upper Egypt</td>\n",
       "      <td>golden</td>\n",
       "      <td>- Aswan- Egypt</td>\n",
       "      <td>Full Time · Experienced · 2+ Yrs of Exp · Bus...</td>\n",
       "      <td>Full Time</td>\n",
       "    </tr>\n",
       "    <tr>\n",
       "      <th>1</th>\n",
       "      <td>https://wuzzuf.net/jobs/p/0efb55cc-3264-47b4-...</td>\n",
       "      <td>Senior/Intermediate .NET Core Developer (Remo...</td>\n",
       "      <td>Confidential</td>\n",
       "      <td>- Cairo- Egypt</td>\n",
       "      <td>Full Time · Experienced · 4+ Yrs of Exp · Sof...</td>\n",
       "      <td>Full Time</td>\n",
       "    </tr>\n",
       "    <tr>\n",
       "      <th>2</th>\n",
       "      <td>https://wuzzuf.net/jobs/p/d76caa63-bc76-4839-...</td>\n",
       "      <td>Senior Software Developer</td>\n",
       "      <td>Bnsights</td>\n",
       "      <td>- New Cairo- Cairo</td>\n",
       "      <td>Full Time · Experienced · 6-10 Yrs of Exp · S...</td>\n",
       "      <td>Full Time</td>\n",
       "    </tr>\n",
       "    <tr>\n",
       "      <th>3</th>\n",
       "      <td>https://wuzzuf.net/jobs/p/2ffe3403-b147-4b38-...</td>\n",
       "      <td>Software Developer / Desktop Development</td>\n",
       "      <td>ITS</td>\n",
       "      <td>- Nasr City- Cairo</td>\n",
       "      <td>Full Time · Entry Level · 0-2 Yrs of Exp · Co...</td>\n",
       "      <td>Full Time</td>\n",
       "    </tr>\n",
       "    <tr>\n",
       "      <th>4</th>\n",
       "      <td>https://wuzzuf.net/jobs/p/b6ae6a6a-47b8-47f7-...</td>\n",
       "      <td>Senior Software Developer -Dynamics 365...</td>\n",
       "      <td>CrossWorkers</td>\n",
       "      <td>- New Cairo- Cairo</td>\n",
       "      <td>Full Time · Experienced · 4-12 Yrs of Exp · A...</td>\n",
       "      <td>Full Time</td>\n",
       "    </tr>\n",
       "  </tbody>\n",
       "</table>\n",
       "</div>"
      ],
      "text/plain": [
       "                                             job_URL  \\\n",
       "0  https://wuzzuf.net/jobs/p/1623d22c-3de2-455a-a...   \n",
       "1   https://wuzzuf.net/jobs/p/0efb55cc-3264-47b4-...   \n",
       "2   https://wuzzuf.net/jobs/p/d76caa63-bc76-4839-...   \n",
       "3   https://wuzzuf.net/jobs/p/2ffe3403-b147-4b38-...   \n",
       "4   https://wuzzuf.net/jobs/p/b6ae6a6a-47b8-47f7-...   \n",
       "\n",
       "                                           job_title   company_name  \\\n",
       "0      Business Development Specialist - Upper Egypt         golden   \n",
       "1   Senior/Intermediate .NET Core Developer (Remo...   Confidential   \n",
       "2                          Senior Software Developer       Bnsights   \n",
       "3           Software Developer / Desktop Development            ITS   \n",
       "4         Senior Software Developer -Dynamics 365...   CrossWorkers   \n",
       "\n",
       "      company_location                                    job_description  \\\n",
       "0       - Aswan- Egypt   Full Time · Experienced · 2+ Yrs of Exp · Bus...   \n",
       "1       - Cairo- Egypt   Full Time · Experienced · 4+ Yrs of Exp · Sof...   \n",
       "2   - New Cairo- Cairo   Full Time · Experienced · 6-10 Yrs of Exp · S...   \n",
       "3   - Nasr City- Cairo   Full Time · Entry Level · 0-2 Yrs of Exp · Co...   \n",
       "4   - New Cairo- Cairo   Full Time · Experienced · 4-12 Yrs of Exp · A...   \n",
       "\n",
       "    job_time  \n",
       "0  Full Time  \n",
       "1  Full Time  \n",
       "2  Full Time  \n",
       "3  Full Time  \n",
       "4  Full Time  "
      ]
     },
     "execution_count": 6,
     "metadata": {},
     "output_type": "execute_result"
    }
   ],
   "source": [
    "# add a job time column\n",
    "job_time=[]\n",
    "for value in df['job_description'] :\n",
    "    if 'Full Time' in value :\n",
    "        job_time.append('Full Time')\n",
    "    elif 'Part Time' in value :\n",
    "        job_time.append('Part Time')\n",
    "    elif 'Internship' in value :\n",
    "        job_time.append('Internship')\n",
    "    else :\n",
    "        job_time.append('Not defined')\n",
    "    \n",
    "df['job_time'] =job_time\n",
    "df.head()"
   ]
  },
  {
   "cell_type": "code",
   "execution_count": 7,
   "metadata": {},
   "outputs": [
    {
     "data": {
      "text/plain": [
       "Full Time      2546\n",
       "Internship       37\n",
       "Part Time        32\n",
       "Not defined      23\n",
       "Name: job_time, dtype: int64"
      ]
     },
     "execution_count": 7,
     "metadata": {},
     "output_type": "execute_result"
    }
   ],
   "source": [
    "df.job_time.value_counts()"
   ]
  },
  {
   "cell_type": "code",
   "execution_count": 8,
   "metadata": {},
   "outputs": [
    {
     "data": {
      "text/html": [
       "<div>\n",
       "<style scoped>\n",
       "    .dataframe tbody tr th:only-of-type {\n",
       "        vertical-align: middle;\n",
       "    }\n",
       "\n",
       "    .dataframe tbody tr th {\n",
       "        vertical-align: top;\n",
       "    }\n",
       "\n",
       "    .dataframe thead th {\n",
       "        text-align: right;\n",
       "    }\n",
       "</style>\n",
       "<table border=\"1\" class=\"dataframe\">\n",
       "  <thead>\n",
       "    <tr style=\"text-align: right;\">\n",
       "      <th></th>\n",
       "      <th>job_URL</th>\n",
       "      <th>job_title</th>\n",
       "      <th>company_name</th>\n",
       "      <th>company_location</th>\n",
       "      <th>job_description</th>\n",
       "      <th>job_time</th>\n",
       "      <th>job_level</th>\n",
       "    </tr>\n",
       "  </thead>\n",
       "  <tbody>\n",
       "    <tr>\n",
       "      <th>0</th>\n",
       "      <td>https://wuzzuf.net/jobs/p/1623d22c-3de2-455a-a...</td>\n",
       "      <td>Business Development Specialist - Upper Egypt</td>\n",
       "      <td>golden</td>\n",
       "      <td>- Aswan- Egypt</td>\n",
       "      <td>Full Time · Experienced · 2+ Yrs of Exp · Bus...</td>\n",
       "      <td>Full Time</td>\n",
       "      <td>Experienced</td>\n",
       "    </tr>\n",
       "    <tr>\n",
       "      <th>1</th>\n",
       "      <td>https://wuzzuf.net/jobs/p/0efb55cc-3264-47b4-...</td>\n",
       "      <td>Senior/Intermediate .NET Core Developer (Remo...</td>\n",
       "      <td>Confidential</td>\n",
       "      <td>- Cairo- Egypt</td>\n",
       "      <td>Full Time · Experienced · 4+ Yrs of Exp · Sof...</td>\n",
       "      <td>Full Time</td>\n",
       "      <td>Experienced</td>\n",
       "    </tr>\n",
       "    <tr>\n",
       "      <th>2</th>\n",
       "      <td>https://wuzzuf.net/jobs/p/d76caa63-bc76-4839-...</td>\n",
       "      <td>Senior Software Developer</td>\n",
       "      <td>Bnsights</td>\n",
       "      <td>- New Cairo- Cairo</td>\n",
       "      <td>Full Time · Experienced · 6-10 Yrs of Exp · S...</td>\n",
       "      <td>Full Time</td>\n",
       "      <td>Experienced</td>\n",
       "    </tr>\n",
       "    <tr>\n",
       "      <th>3</th>\n",
       "      <td>https://wuzzuf.net/jobs/p/2ffe3403-b147-4b38-...</td>\n",
       "      <td>Software Developer / Desktop Development</td>\n",
       "      <td>ITS</td>\n",
       "      <td>- Nasr City- Cairo</td>\n",
       "      <td>Full Time · Entry Level · 0-2 Yrs of Exp · Co...</td>\n",
       "      <td>Full Time</td>\n",
       "      <td>Entry Level</td>\n",
       "    </tr>\n",
       "    <tr>\n",
       "      <th>4</th>\n",
       "      <td>https://wuzzuf.net/jobs/p/b6ae6a6a-47b8-47f7-...</td>\n",
       "      <td>Senior Software Developer -Dynamics 365...</td>\n",
       "      <td>CrossWorkers</td>\n",
       "      <td>- New Cairo- Cairo</td>\n",
       "      <td>Full Time · Experienced · 4-12 Yrs of Exp · A...</td>\n",
       "      <td>Full Time</td>\n",
       "      <td>Experienced</td>\n",
       "    </tr>\n",
       "  </tbody>\n",
       "</table>\n",
       "</div>"
      ],
      "text/plain": [
       "                                             job_URL  \\\n",
       "0  https://wuzzuf.net/jobs/p/1623d22c-3de2-455a-a...   \n",
       "1   https://wuzzuf.net/jobs/p/0efb55cc-3264-47b4-...   \n",
       "2   https://wuzzuf.net/jobs/p/d76caa63-bc76-4839-...   \n",
       "3   https://wuzzuf.net/jobs/p/2ffe3403-b147-4b38-...   \n",
       "4   https://wuzzuf.net/jobs/p/b6ae6a6a-47b8-47f7-...   \n",
       "\n",
       "                                           job_title   company_name  \\\n",
       "0      Business Development Specialist - Upper Egypt         golden   \n",
       "1   Senior/Intermediate .NET Core Developer (Remo...   Confidential   \n",
       "2                          Senior Software Developer       Bnsights   \n",
       "3           Software Developer / Desktop Development            ITS   \n",
       "4         Senior Software Developer -Dynamics 365...   CrossWorkers   \n",
       "\n",
       "      company_location                                    job_description  \\\n",
       "0       - Aswan- Egypt   Full Time · Experienced · 2+ Yrs of Exp · Bus...   \n",
       "1       - Cairo- Egypt   Full Time · Experienced · 4+ Yrs of Exp · Sof...   \n",
       "2   - New Cairo- Cairo   Full Time · Experienced · 6-10 Yrs of Exp · S...   \n",
       "3   - Nasr City- Cairo   Full Time · Entry Level · 0-2 Yrs of Exp · Co...   \n",
       "4   - New Cairo- Cairo   Full Time · Experienced · 4-12 Yrs of Exp · A...   \n",
       "\n",
       "    job_time    job_level  \n",
       "0  Full Time  Experienced  \n",
       "1  Full Time  Experienced  \n",
       "2  Full Time  Experienced  \n",
       "3  Full Time  Entry Level  \n",
       "4  Full Time  Experienced  "
      ]
     },
     "execution_count": 8,
     "metadata": {},
     "output_type": "execute_result"
    }
   ],
   "source": [
    "# add a job level column\n",
    "job_level=[]\n",
    "for value in df['job_description'] :\n",
    "    if 'Experienced' in value :\n",
    "        job_level.append('Experienced')\n",
    "    elif 'Entry Level' in value :\n",
    "        job_level.append('Entry Level')\n",
    "    elif 'Internship' in value :\n",
    "        job_level.append('Internship')\n",
    "    else :\n",
    "        job_level.append('Not defined')\n",
    "    \n",
    "df['job_level'] =job_level\n",
    "df.head()"
   ]
  },
  {
   "cell_type": "code",
   "execution_count": 9,
   "metadata": {},
   "outputs": [
    {
     "data": {
      "text/plain": [
       "(2638, 7)"
      ]
     },
     "execution_count": 9,
     "metadata": {},
     "output_type": "execute_result"
    }
   ],
   "source": [
    "df.shape"
   ]
  },
  {
   "cell_type": "code",
   "execution_count": 10,
   "metadata": {},
   "outputs": [
    {
     "data": {
      "text/plain": [
       "(job_URL             0\n",
       " job_title           0\n",
       " company_name        0\n",
       " company_location    0\n",
       " job_description     0\n",
       " job_time            0\n",
       " job_level           0\n",
       " dtype: int64,\n",
       " 0)"
      ]
     },
     "execution_count": 10,
     "metadata": {},
     "output_type": "execute_result"
    }
   ],
   "source": [
    "# checking for nulls and duplicates\n",
    "df.isna().sum() , df.duplicated().sum()"
   ]
  },
  {
   "cell_type": "markdown",
   "metadata": {},
   "source": [
    "### Cleaning and adjustments"
   ]
  },
  {
   "cell_type": "code",
   "execution_count": 19,
   "metadata": {},
   "outputs": [
    {
     "data": {
      "text/html": [
       "<div>\n",
       "<style scoped>\n",
       "    .dataframe tbody tr th:only-of-type {\n",
       "        vertical-align: middle;\n",
       "    }\n",
       "\n",
       "    .dataframe tbody tr th {\n",
       "        vertical-align: top;\n",
       "    }\n",
       "\n",
       "    .dataframe thead th {\n",
       "        text-align: right;\n",
       "    }\n",
       "</style>\n",
       "<table border=\"1\" class=\"dataframe\">\n",
       "  <thead>\n",
       "    <tr style=\"text-align: right;\">\n",
       "      <th></th>\n",
       "      <th>job_URL</th>\n",
       "      <th>job_title</th>\n",
       "      <th>company_name</th>\n",
       "      <th>company_location</th>\n",
       "      <th>job_description</th>\n",
       "    </tr>\n",
       "  </thead>\n",
       "  <tbody>\n",
       "    <tr>\n",
       "      <th>0</th>\n",
       "      <td>https://wuzzuf.net/jobs/p/1623d22c-3de2-455a-a...</td>\n",
       "      <td>Business Development Specialist - Upper Egypt</td>\n",
       "      <td>golden</td>\n",
       "      <td>- Aswan- Egypt</td>\n",
       "      <td>Full Time · Experienced · 2+ Yrs of Exp · Bus...</td>\n",
       "    </tr>\n",
       "    <tr>\n",
       "      <th>1</th>\n",
       "      <td>https://wuzzuf.net/jobs/p/0efb55cc-3264-47b4-...</td>\n",
       "      <td>Senior/Intermediate .NET Core Developer (Remo...</td>\n",
       "      <td>Confidential</td>\n",
       "      <td>- Cairo- Egypt</td>\n",
       "      <td>Full Time · Experienced · 4+ Yrs of Exp · Sof...</td>\n",
       "    </tr>\n",
       "    <tr>\n",
       "      <th>2</th>\n",
       "      <td>https://wuzzuf.net/jobs/p/d76caa63-bc76-4839-...</td>\n",
       "      <td>Senior Software Developer</td>\n",
       "      <td>Bnsights</td>\n",
       "      <td>- New Cairo- Cairo</td>\n",
       "      <td>Full Time · Experienced · 6-10 Yrs of Exp · S...</td>\n",
       "    </tr>\n",
       "    <tr>\n",
       "      <th>3</th>\n",
       "      <td>https://wuzzuf.net/jobs/p/2ffe3403-b147-4b38-...</td>\n",
       "      <td>Software Developer / Desktop Development</td>\n",
       "      <td>ITS</td>\n",
       "      <td>- Nasr City- Cairo</td>\n",
       "      <td>Full Time · Entry Level · 0-2 Yrs of Exp · Co...</td>\n",
       "    </tr>\n",
       "    <tr>\n",
       "      <th>4</th>\n",
       "      <td>https://wuzzuf.net/jobs/p/b6ae6a6a-47b8-47f7-...</td>\n",
       "      <td>Senior Software Developer -Dynamics 365...</td>\n",
       "      <td>CrossWorkers</td>\n",
       "      <td>- New Cairo- Cairo</td>\n",
       "      <td>Full Time · Experienced · 4-12 Yrs of Exp · A...</td>\n",
       "    </tr>\n",
       "  </tbody>\n",
       "</table>\n",
       "</div>"
      ],
      "text/plain": [
       "                                             job_URL  \\\n",
       "0  https://wuzzuf.net/jobs/p/1623d22c-3de2-455a-a...   \n",
       "1   https://wuzzuf.net/jobs/p/0efb55cc-3264-47b4-...   \n",
       "2   https://wuzzuf.net/jobs/p/d76caa63-bc76-4839-...   \n",
       "3   https://wuzzuf.net/jobs/p/2ffe3403-b147-4b38-...   \n",
       "4   https://wuzzuf.net/jobs/p/b6ae6a6a-47b8-47f7-...   \n",
       "\n",
       "                                           job_title   company_name  \\\n",
       "0      Business Development Specialist - Upper Egypt         golden   \n",
       "1   Senior/Intermediate .NET Core Developer (Remo...   Confidential   \n",
       "2                          Senior Software Developer       Bnsights   \n",
       "3           Software Developer / Desktop Development            ITS   \n",
       "4         Senior Software Developer -Dynamics 365...   CrossWorkers   \n",
       "\n",
       "      company_location                                    job_description  \n",
       "0       - Aswan- Egypt   Full Time · Experienced · 2+ Yrs of Exp · Bus...  \n",
       "1       - Cairo- Egypt   Full Time · Experienced · 4+ Yrs of Exp · Sof...  \n",
       "2   - New Cairo- Cairo   Full Time · Experienced · 6-10 Yrs of Exp · S...  \n",
       "3   - Nasr City- Cairo   Full Time · Entry Level · 0-2 Yrs of Exp · Co...  \n",
       "4   - New Cairo- Cairo   Full Time · Experienced · 4-12 Yrs of Exp · A...  "
      ]
     },
     "execution_count": 19,
     "metadata": {},
     "output_type": "execute_result"
    }
   ],
   "source": [
    "#df.dropna(inplace=True)\n",
    "#df.drop_duplicates(inplace=True)\n",
    "df.head()"
   ]
  },
  {
   "cell_type": "code",
   "execution_count": 20,
   "metadata": {},
   "outputs": [
    {
     "data": {
      "text/plain": [
       "(2638, 5)"
      ]
     },
     "execution_count": 20,
     "metadata": {},
     "output_type": "execute_result"
    }
   ],
   "source": [
    "df.shape"
   ]
  },
  {
   "cell_type": "markdown",
   "metadata": {},
   "source": [
    "## 2020 Data"
   ]
  },
  {
   "cell_type": "code",
   "execution_count": 34,
   "metadata": {},
   "outputs": [
    {
     "data": {
      "text/html": [
       "<div>\n",
       "<style scoped>\n",
       "    .dataframe tbody tr th:only-of-type {\n",
       "        vertical-align: middle;\n",
       "    }\n",
       "\n",
       "    .dataframe tbody tr th {\n",
       "        vertical-align: top;\n",
       "    }\n",
       "\n",
       "    .dataframe thead th {\n",
       "        text-align: right;\n",
       "    }\n",
       "</style>\n",
       "<table border=\"1\" class=\"dataframe\">\n",
       "  <thead>\n",
       "    <tr style=\"text-align: right;\">\n",
       "      <th></th>\n",
       "      <th>#PAGE_URL</th>\n",
       "      <th>title</th>\n",
       "      <th>company-name</th>\n",
       "      <th>job-link</th>\n",
       "      <th>job-link_link</th>\n",
       "      <th>short-description-</th>\n",
       "      <th>location</th>\n",
       "    </tr>\n",
       "  </thead>\n",
       "  <tbody>\n",
       "    <tr>\n",
       "      <th>0</th>\n",
       "      <td>https://wuzzuf.net/a/IT-Software-Development-J...</td>\n",
       "      <td>Sales Supervisor - North Upper Egypt</td>\n",
       "      <td>PepsiCo International</td>\n",
       "      <td>Sales Supervisor - North Upper Egypt</td>\n",
       "      <td>https://wuzzuf.net/jobs/p/cc5848eb-a2c4-4055-9...</td>\n",
       "      <td>Full Time · Manager · 1-3 Yrs of Exp · FMCG · ...</td>\n",
       "      <td>Beni Suef, Egypt</td>\n",
       "    </tr>\n",
       "    <tr>\n",
       "      <th>1</th>\n",
       "      <td>https://wuzzuf.net/a/IT-Software-Development-J...</td>\n",
       "      <td>Junior Technical Support Engineer - Upper Egypt</td>\n",
       "      <td>MigrationIT.com</td>\n",
       "      <td>Junior Technical Support Engineer - Upper Egypt</td>\n",
       "      <td>https://wuzzuf.net/jobs/p/39a68f94-611c-4a07-9...</td>\n",
       "      <td>Full Time · Entry Level · 1-2 Yrs of Exp · ITI...</td>\n",
       "      <td>Assiut, Egypt</td>\n",
       "    </tr>\n",
       "    <tr>\n",
       "      <th>2</th>\n",
       "      <td>https://wuzzuf.net/a/IT-Software-Development-J...</td>\n",
       "      <td>Software Developer</td>\n",
       "      <td>Rednet It Services</td>\n",
       "      <td>Software Developer</td>\n",
       "      <td>https://wuzzuf.net/jobs/p/7f3aec8d-1724-4f0c-9...</td>\n",
       "      <td>Full Time · Experienced · 2-3 Yrs of Exp · Sof...</td>\n",
       "      <td>Maadi, Cairo</td>\n",
       "    </tr>\n",
       "    <tr>\n",
       "      <th>3</th>\n",
       "      <td>https://wuzzuf.net/a/IT-Software-Development-J...</td>\n",
       "      <td>Senior Software Quality Control Engineer</td>\n",
       "      <td>Bnsights</td>\n",
       "      <td>Senior Software Quality Control Engineer</td>\n",
       "      <td>https://wuzzuf.net/jobs/p/bbc5d1cb-33ff-4c10-a...</td>\n",
       "      <td>Full Time · Experienced · 3-5 Yrs of Exp · Com...</td>\n",
       "      <td>New Cairo, Cairo</td>\n",
       "    </tr>\n",
       "    <tr>\n",
       "      <th>4</th>\n",
       "      <td>https://wuzzuf.net/a/IT-Software-Development-J...</td>\n",
       "      <td>Senior E-Commerce Software Developer (Magento 2)</td>\n",
       "      <td>shop4build</td>\n",
       "      <td>Senior E-Commerce Software Developer (Magento 2)</td>\n",
       "      <td>https://wuzzuf.net/jobs/p/2be88ac7-5a6c-4a5a-8...</td>\n",
       "      <td>Full Time · Part Time · Work From Home · Exper...</td>\n",
       "      <td>Maadi, Cairo</td>\n",
       "    </tr>\n",
       "  </tbody>\n",
       "</table>\n",
       "</div>"
      ],
      "text/plain": [
       "                                           #PAGE_URL  \\\n",
       "0  https://wuzzuf.net/a/IT-Software-Development-J...   \n",
       "1  https://wuzzuf.net/a/IT-Software-Development-J...   \n",
       "2  https://wuzzuf.net/a/IT-Software-Development-J...   \n",
       "3  https://wuzzuf.net/a/IT-Software-Development-J...   \n",
       "4  https://wuzzuf.net/a/IT-Software-Development-J...   \n",
       "\n",
       "                                              title           company-name  \\\n",
       "0              Sales Supervisor - North Upper Egypt  PepsiCo International   \n",
       "1   Junior Technical Support Engineer - Upper Egypt        MigrationIT.com   \n",
       "2                                Software Developer     Rednet It Services   \n",
       "3          Senior Software Quality Control Engineer               Bnsights   \n",
       "4  Senior E-Commerce Software Developer (Magento 2)             shop4build   \n",
       "\n",
       "                                           job-link  \\\n",
       "0              Sales Supervisor - North Upper Egypt   \n",
       "1   Junior Technical Support Engineer - Upper Egypt   \n",
       "2                                Software Developer   \n",
       "3          Senior Software Quality Control Engineer   \n",
       "4  Senior E-Commerce Software Developer (Magento 2)   \n",
       "\n",
       "                                       job-link_link  \\\n",
       "0  https://wuzzuf.net/jobs/p/cc5848eb-a2c4-4055-9...   \n",
       "1  https://wuzzuf.net/jobs/p/39a68f94-611c-4a07-9...   \n",
       "2  https://wuzzuf.net/jobs/p/7f3aec8d-1724-4f0c-9...   \n",
       "3  https://wuzzuf.net/jobs/p/bbc5d1cb-33ff-4c10-a...   \n",
       "4  https://wuzzuf.net/jobs/p/2be88ac7-5a6c-4a5a-8...   \n",
       "\n",
       "                                  short-description-          location  \n",
       "0  Full Time · Manager · 1-3 Yrs of Exp · FMCG · ...  Beni Suef, Egypt  \n",
       "1  Full Time · Entry Level · 1-2 Yrs of Exp · ITI...     Assiut, Egypt  \n",
       "2  Full Time · Experienced · 2-3 Yrs of Exp · Sof...      Maadi, Cairo  \n",
       "3  Full Time · Experienced · 3-5 Yrs of Exp · Com...  New Cairo, Cairo  \n",
       "4  Full Time · Part Time · Work From Home · Exper...      Maadi, Cairo  "
      ]
     },
     "execution_count": 34,
     "metadata": {},
     "output_type": "execute_result"
    }
   ],
   "source": [
    "# read the csv file with the 2020 data\n",
    "df_old20 = pd.read_csv(\"wuzzaf_2020.csv\")\n",
    "df_old20.head()"
   ]
  },
  {
   "cell_type": "code",
   "execution_count": 35,
   "metadata": {},
   "outputs": [
    {
     "data": {
      "text/plain": [
       "Index(['#PAGE_URL', 'title', 'company-name', 'job-link', 'job-link_link',\n",
       "       'short-description-', 'location'],\n",
       "      dtype='object')"
      ]
     },
     "execution_count": 35,
     "metadata": {},
     "output_type": "execute_result"
    }
   ],
   "source": [
    "df_old20.columns"
   ]
  },
  {
   "cell_type": "code",
   "execution_count": 36,
   "metadata": {},
   "outputs": [
    {
     "data": {
      "text/html": [
       "<div>\n",
       "<style scoped>\n",
       "    .dataframe tbody tr th:only-of-type {\n",
       "        vertical-align: middle;\n",
       "    }\n",
       "\n",
       "    .dataframe tbody tr th {\n",
       "        vertical-align: top;\n",
       "    }\n",
       "\n",
       "    .dataframe thead th {\n",
       "        text-align: right;\n",
       "    }\n",
       "</style>\n",
       "<table border=\"1\" class=\"dataframe\">\n",
       "  <thead>\n",
       "    <tr style=\"text-align: right;\">\n",
       "      <th></th>\n",
       "      <th>#PAGE_URL</th>\n",
       "      <th>title</th>\n",
       "      <th>company-name</th>\n",
       "      <th>job-link</th>\n",
       "      <th>job-link_link</th>\n",
       "      <th>short-description-</th>\n",
       "      <th>location</th>\n",
       "      <th>job_time</th>\n",
       "    </tr>\n",
       "  </thead>\n",
       "  <tbody>\n",
       "    <tr>\n",
       "      <th>0</th>\n",
       "      <td>https://wuzzuf.net/a/IT-Software-Development-J...</td>\n",
       "      <td>Sales Supervisor - North Upper Egypt</td>\n",
       "      <td>PepsiCo International</td>\n",
       "      <td>Sales Supervisor - North Upper Egypt</td>\n",
       "      <td>https://wuzzuf.net/jobs/p/cc5848eb-a2c4-4055-9...</td>\n",
       "      <td>Full Time · Manager · 1-3 Yrs of Exp · FMCG · ...</td>\n",
       "      <td>Beni Suef, Egypt</td>\n",
       "      <td>Full Time</td>\n",
       "    </tr>\n",
       "    <tr>\n",
       "      <th>1</th>\n",
       "      <td>https://wuzzuf.net/a/IT-Software-Development-J...</td>\n",
       "      <td>Junior Technical Support Engineer - Upper Egypt</td>\n",
       "      <td>MigrationIT.com</td>\n",
       "      <td>Junior Technical Support Engineer - Upper Egypt</td>\n",
       "      <td>https://wuzzuf.net/jobs/p/39a68f94-611c-4a07-9...</td>\n",
       "      <td>Full Time · Entry Level · 1-2 Yrs of Exp · ITI...</td>\n",
       "      <td>Assiut, Egypt</td>\n",
       "      <td>Full Time</td>\n",
       "    </tr>\n",
       "    <tr>\n",
       "      <th>2</th>\n",
       "      <td>https://wuzzuf.net/a/IT-Software-Development-J...</td>\n",
       "      <td>Software Developer</td>\n",
       "      <td>Rednet It Services</td>\n",
       "      <td>Software Developer</td>\n",
       "      <td>https://wuzzuf.net/jobs/p/7f3aec8d-1724-4f0c-9...</td>\n",
       "      <td>Full Time · Experienced · 2-3 Yrs of Exp · Sof...</td>\n",
       "      <td>Maadi, Cairo</td>\n",
       "      <td>Full Time</td>\n",
       "    </tr>\n",
       "    <tr>\n",
       "      <th>3</th>\n",
       "      <td>https://wuzzuf.net/a/IT-Software-Development-J...</td>\n",
       "      <td>Senior Software Quality Control Engineer</td>\n",
       "      <td>Bnsights</td>\n",
       "      <td>Senior Software Quality Control Engineer</td>\n",
       "      <td>https://wuzzuf.net/jobs/p/bbc5d1cb-33ff-4c10-a...</td>\n",
       "      <td>Full Time · Experienced · 3-5 Yrs of Exp · Com...</td>\n",
       "      <td>New Cairo, Cairo</td>\n",
       "      <td>Full Time</td>\n",
       "    </tr>\n",
       "    <tr>\n",
       "      <th>4</th>\n",
       "      <td>https://wuzzuf.net/a/IT-Software-Development-J...</td>\n",
       "      <td>Senior E-Commerce Software Developer (Magento 2)</td>\n",
       "      <td>shop4build</td>\n",
       "      <td>Senior E-Commerce Software Developer (Magento 2)</td>\n",
       "      <td>https://wuzzuf.net/jobs/p/2be88ac7-5a6c-4a5a-8...</td>\n",
       "      <td>Full Time · Part Time · Work From Home · Exper...</td>\n",
       "      <td>Maadi, Cairo</td>\n",
       "      <td>Full Time</td>\n",
       "    </tr>\n",
       "  </tbody>\n",
       "</table>\n",
       "</div>"
      ],
      "text/plain": [
       "                                           #PAGE_URL  \\\n",
       "0  https://wuzzuf.net/a/IT-Software-Development-J...   \n",
       "1  https://wuzzuf.net/a/IT-Software-Development-J...   \n",
       "2  https://wuzzuf.net/a/IT-Software-Development-J...   \n",
       "3  https://wuzzuf.net/a/IT-Software-Development-J...   \n",
       "4  https://wuzzuf.net/a/IT-Software-Development-J...   \n",
       "\n",
       "                                              title           company-name  \\\n",
       "0              Sales Supervisor - North Upper Egypt  PepsiCo International   \n",
       "1   Junior Technical Support Engineer - Upper Egypt        MigrationIT.com   \n",
       "2                                Software Developer     Rednet It Services   \n",
       "3          Senior Software Quality Control Engineer               Bnsights   \n",
       "4  Senior E-Commerce Software Developer (Magento 2)             shop4build   \n",
       "\n",
       "                                           job-link  \\\n",
       "0              Sales Supervisor - North Upper Egypt   \n",
       "1   Junior Technical Support Engineer - Upper Egypt   \n",
       "2                                Software Developer   \n",
       "3          Senior Software Quality Control Engineer   \n",
       "4  Senior E-Commerce Software Developer (Magento 2)   \n",
       "\n",
       "                                       job-link_link  \\\n",
       "0  https://wuzzuf.net/jobs/p/cc5848eb-a2c4-4055-9...   \n",
       "1  https://wuzzuf.net/jobs/p/39a68f94-611c-4a07-9...   \n",
       "2  https://wuzzuf.net/jobs/p/7f3aec8d-1724-4f0c-9...   \n",
       "3  https://wuzzuf.net/jobs/p/bbc5d1cb-33ff-4c10-a...   \n",
       "4  https://wuzzuf.net/jobs/p/2be88ac7-5a6c-4a5a-8...   \n",
       "\n",
       "                                  short-description-          location  \\\n",
       "0  Full Time · Manager · 1-3 Yrs of Exp · FMCG · ...  Beni Suef, Egypt   \n",
       "1  Full Time · Entry Level · 1-2 Yrs of Exp · ITI...     Assiut, Egypt   \n",
       "2  Full Time · Experienced · 2-3 Yrs of Exp · Sof...      Maadi, Cairo   \n",
       "3  Full Time · Experienced · 3-5 Yrs of Exp · Com...  New Cairo, Cairo   \n",
       "4  Full Time · Part Time · Work From Home · Exper...      Maadi, Cairo   \n",
       "\n",
       "    job_time  \n",
       "0  Full Time  \n",
       "1  Full Time  \n",
       "2  Full Time  \n",
       "3  Full Time  \n",
       "4  Full Time  "
      ]
     },
     "execution_count": 36,
     "metadata": {},
     "output_type": "execute_result"
    }
   ],
   "source": [
    "# add a job time column\n",
    "job_time=[]\n",
    "for value in df_old20['short-description-'] :\n",
    "    if 'Full Time' in value :\n",
    "        job_time.append('Full Time')\n",
    "    elif 'Part Time' in value :\n",
    "        job_time.append('Part Time')\n",
    "    elif 'Internship' in value :\n",
    "        job_time.append('Internship')\n",
    "    else :\n",
    "        job_time.append('Not defined')\n",
    "    \n",
    "df_old20['job_time'] =job_time\n",
    "df_old20.head()"
   ]
  },
  {
   "cell_type": "code",
   "execution_count": 37,
   "metadata": {},
   "outputs": [
    {
     "data": {
      "text/html": [
       "<div>\n",
       "<style scoped>\n",
       "    .dataframe tbody tr th:only-of-type {\n",
       "        vertical-align: middle;\n",
       "    }\n",
       "\n",
       "    .dataframe tbody tr th {\n",
       "        vertical-align: top;\n",
       "    }\n",
       "\n",
       "    .dataframe thead th {\n",
       "        text-align: right;\n",
       "    }\n",
       "</style>\n",
       "<table border=\"1\" class=\"dataframe\">\n",
       "  <thead>\n",
       "    <tr style=\"text-align: right;\">\n",
       "      <th></th>\n",
       "      <th>#PAGE_URL</th>\n",
       "      <th>title</th>\n",
       "      <th>company-name</th>\n",
       "      <th>job-link</th>\n",
       "      <th>job-link_link</th>\n",
       "      <th>short-description-</th>\n",
       "      <th>location</th>\n",
       "      <th>job_time</th>\n",
       "      <th>job_level</th>\n",
       "    </tr>\n",
       "  </thead>\n",
       "  <tbody>\n",
       "    <tr>\n",
       "      <th>0</th>\n",
       "      <td>https://wuzzuf.net/a/IT-Software-Development-J...</td>\n",
       "      <td>Sales Supervisor - North Upper Egypt</td>\n",
       "      <td>PepsiCo International</td>\n",
       "      <td>Sales Supervisor - North Upper Egypt</td>\n",
       "      <td>https://wuzzuf.net/jobs/p/cc5848eb-a2c4-4055-9...</td>\n",
       "      <td>Full Time · Manager · 1-3 Yrs of Exp · FMCG · ...</td>\n",
       "      <td>Beni Suef, Egypt</td>\n",
       "      <td>Full Time</td>\n",
       "      <td>Not defined</td>\n",
       "    </tr>\n",
       "    <tr>\n",
       "      <th>1</th>\n",
       "      <td>https://wuzzuf.net/a/IT-Software-Development-J...</td>\n",
       "      <td>Junior Technical Support Engineer - Upper Egypt</td>\n",
       "      <td>MigrationIT.com</td>\n",
       "      <td>Junior Technical Support Engineer - Upper Egypt</td>\n",
       "      <td>https://wuzzuf.net/jobs/p/39a68f94-611c-4a07-9...</td>\n",
       "      <td>Full Time · Entry Level · 1-2 Yrs of Exp · ITI...</td>\n",
       "      <td>Assiut, Egypt</td>\n",
       "      <td>Full Time</td>\n",
       "      <td>Entry Level</td>\n",
       "    </tr>\n",
       "    <tr>\n",
       "      <th>2</th>\n",
       "      <td>https://wuzzuf.net/a/IT-Software-Development-J...</td>\n",
       "      <td>Software Developer</td>\n",
       "      <td>Rednet It Services</td>\n",
       "      <td>Software Developer</td>\n",
       "      <td>https://wuzzuf.net/jobs/p/7f3aec8d-1724-4f0c-9...</td>\n",
       "      <td>Full Time · Experienced · 2-3 Yrs of Exp · Sof...</td>\n",
       "      <td>Maadi, Cairo</td>\n",
       "      <td>Full Time</td>\n",
       "      <td>Experienced</td>\n",
       "    </tr>\n",
       "    <tr>\n",
       "      <th>3</th>\n",
       "      <td>https://wuzzuf.net/a/IT-Software-Development-J...</td>\n",
       "      <td>Senior Software Quality Control Engineer</td>\n",
       "      <td>Bnsights</td>\n",
       "      <td>Senior Software Quality Control Engineer</td>\n",
       "      <td>https://wuzzuf.net/jobs/p/bbc5d1cb-33ff-4c10-a...</td>\n",
       "      <td>Full Time · Experienced · 3-5 Yrs of Exp · Com...</td>\n",
       "      <td>New Cairo, Cairo</td>\n",
       "      <td>Full Time</td>\n",
       "      <td>Experienced</td>\n",
       "    </tr>\n",
       "    <tr>\n",
       "      <th>4</th>\n",
       "      <td>https://wuzzuf.net/a/IT-Software-Development-J...</td>\n",
       "      <td>Senior E-Commerce Software Developer (Magento 2)</td>\n",
       "      <td>shop4build</td>\n",
       "      <td>Senior E-Commerce Software Developer (Magento 2)</td>\n",
       "      <td>https://wuzzuf.net/jobs/p/2be88ac7-5a6c-4a5a-8...</td>\n",
       "      <td>Full Time · Part Time · Work From Home · Exper...</td>\n",
       "      <td>Maadi, Cairo</td>\n",
       "      <td>Full Time</td>\n",
       "      <td>Experienced</td>\n",
       "    </tr>\n",
       "  </tbody>\n",
       "</table>\n",
       "</div>"
      ],
      "text/plain": [
       "                                           #PAGE_URL  \\\n",
       "0  https://wuzzuf.net/a/IT-Software-Development-J...   \n",
       "1  https://wuzzuf.net/a/IT-Software-Development-J...   \n",
       "2  https://wuzzuf.net/a/IT-Software-Development-J...   \n",
       "3  https://wuzzuf.net/a/IT-Software-Development-J...   \n",
       "4  https://wuzzuf.net/a/IT-Software-Development-J...   \n",
       "\n",
       "                                              title           company-name  \\\n",
       "0              Sales Supervisor - North Upper Egypt  PepsiCo International   \n",
       "1   Junior Technical Support Engineer - Upper Egypt        MigrationIT.com   \n",
       "2                                Software Developer     Rednet It Services   \n",
       "3          Senior Software Quality Control Engineer               Bnsights   \n",
       "4  Senior E-Commerce Software Developer (Magento 2)             shop4build   \n",
       "\n",
       "                                           job-link  \\\n",
       "0              Sales Supervisor - North Upper Egypt   \n",
       "1   Junior Technical Support Engineer - Upper Egypt   \n",
       "2                                Software Developer   \n",
       "3          Senior Software Quality Control Engineer   \n",
       "4  Senior E-Commerce Software Developer (Magento 2)   \n",
       "\n",
       "                                       job-link_link  \\\n",
       "0  https://wuzzuf.net/jobs/p/cc5848eb-a2c4-4055-9...   \n",
       "1  https://wuzzuf.net/jobs/p/39a68f94-611c-4a07-9...   \n",
       "2  https://wuzzuf.net/jobs/p/7f3aec8d-1724-4f0c-9...   \n",
       "3  https://wuzzuf.net/jobs/p/bbc5d1cb-33ff-4c10-a...   \n",
       "4  https://wuzzuf.net/jobs/p/2be88ac7-5a6c-4a5a-8...   \n",
       "\n",
       "                                  short-description-          location  \\\n",
       "0  Full Time · Manager · 1-3 Yrs of Exp · FMCG · ...  Beni Suef, Egypt   \n",
       "1  Full Time · Entry Level · 1-2 Yrs of Exp · ITI...     Assiut, Egypt   \n",
       "2  Full Time · Experienced · 2-3 Yrs of Exp · Sof...      Maadi, Cairo   \n",
       "3  Full Time · Experienced · 3-5 Yrs of Exp · Com...  New Cairo, Cairo   \n",
       "4  Full Time · Part Time · Work From Home · Exper...      Maadi, Cairo   \n",
       "\n",
       "    job_time    job_level  \n",
       "0  Full Time  Not defined  \n",
       "1  Full Time  Entry Level  \n",
       "2  Full Time  Experienced  \n",
       "3  Full Time  Experienced  \n",
       "4  Full Time  Experienced  "
      ]
     },
     "execution_count": 37,
     "metadata": {},
     "output_type": "execute_result"
    }
   ],
   "source": [
    "# add a job level column\n",
    "job_level=[]\n",
    "for value in df_old20['short-description-'] :\n",
    "    if 'Experienced' in value :\n",
    "        job_level.append('Experienced')\n",
    "    elif 'Entry Level' in value :\n",
    "        job_level.append('Entry Level')\n",
    "    elif 'Internship' in value :\n",
    "        job_level.append('Internship')\n",
    "    else :\n",
    "        job_level.append('Not defined')\n",
    "    \n",
    "df_old20['job_level'] =job_level\n",
    "df_old20.head()"
   ]
  },
  {
   "cell_type": "code",
   "execution_count": 38,
   "metadata": {},
   "outputs": [
    {
     "data": {
      "text/plain": [
       "(2580, 9)"
      ]
     },
     "execution_count": 38,
     "metadata": {},
     "output_type": "execute_result"
    }
   ],
   "source": [
    "df_old20.shape"
   ]
  },
  {
   "cell_type": "code",
   "execution_count": 39,
   "metadata": {},
   "outputs": [
    {
     "data": {
      "text/plain": [
       "#PAGE_URL             0\n",
       "title                 0\n",
       "company-name          0\n",
       "job-link              0\n",
       "job-link_link         0\n",
       "short-description-    0\n",
       "location              0\n",
       "job_time              0\n",
       "job_level             0\n",
       "dtype: int64"
      ]
     },
     "execution_count": 39,
     "metadata": {},
     "output_type": "execute_result"
    }
   ],
   "source": [
    "# check for null\n",
    "df_old20.isna().sum()"
   ]
  },
  {
   "cell_type": "code",
   "execution_count": 40,
   "metadata": {},
   "outputs": [
    {
     "data": {
      "text/plain": [
       "20"
      ]
     },
     "execution_count": 40,
     "metadata": {},
     "output_type": "execute_result"
    }
   ],
   "source": [
    "#check for duplicates\n",
    "df_old20.duplicated().sum()"
   ]
  },
  {
   "cell_type": "markdown",
   "metadata": {
    "heading_collapsed": true
   },
   "source": [
    "### Cleaning and adjustments"
   ]
  },
  {
   "cell_type": "code",
   "execution_count": 41,
   "metadata": {
    "hidden": true
   },
   "outputs": [
    {
     "data": {
      "text/html": [
       "<div>\n",
       "<style scoped>\n",
       "    .dataframe tbody tr th:only-of-type {\n",
       "        vertical-align: middle;\n",
       "    }\n",
       "\n",
       "    .dataframe tbody tr th {\n",
       "        vertical-align: top;\n",
       "    }\n",
       "\n",
       "    .dataframe thead th {\n",
       "        text-align: right;\n",
       "    }\n",
       "</style>\n",
       "<table border=\"1\" class=\"dataframe\">\n",
       "  <thead>\n",
       "    <tr style=\"text-align: right;\">\n",
       "      <th></th>\n",
       "      <th>job_title</th>\n",
       "      <th>company_name</th>\n",
       "      <th>job_URL</th>\n",
       "      <th>job_description</th>\n",
       "      <th>company_location</th>\n",
       "      <th>job_time</th>\n",
       "      <th>job_level</th>\n",
       "    </tr>\n",
       "  </thead>\n",
       "  <tbody>\n",
       "    <tr>\n",
       "      <th>0</th>\n",
       "      <td>Sales Supervisor - North Upper Egypt</td>\n",
       "      <td>PepsiCo International</td>\n",
       "      <td>https://wuzzuf.net/jobs/p/cc5848eb-a2c4-4055-9...</td>\n",
       "      <td>Full Time · Manager · 1-3 Yrs of Exp · FMCG · ...</td>\n",
       "      <td>Beni Suef, Egypt</td>\n",
       "      <td>Full Time</td>\n",
       "      <td>Not defined</td>\n",
       "    </tr>\n",
       "    <tr>\n",
       "      <th>1</th>\n",
       "      <td>Junior Technical Support Engineer - Upper Egypt</td>\n",
       "      <td>MigrationIT.com</td>\n",
       "      <td>https://wuzzuf.net/jobs/p/39a68f94-611c-4a07-9...</td>\n",
       "      <td>Full Time · Entry Level · 1-2 Yrs of Exp · ITI...</td>\n",
       "      <td>Assiut, Egypt</td>\n",
       "      <td>Full Time</td>\n",
       "      <td>Entry Level</td>\n",
       "    </tr>\n",
       "    <tr>\n",
       "      <th>2</th>\n",
       "      <td>Software Developer</td>\n",
       "      <td>Rednet It Services</td>\n",
       "      <td>https://wuzzuf.net/jobs/p/7f3aec8d-1724-4f0c-9...</td>\n",
       "      <td>Full Time · Experienced · 2-3 Yrs of Exp · Sof...</td>\n",
       "      <td>Maadi, Cairo</td>\n",
       "      <td>Full Time</td>\n",
       "      <td>Experienced</td>\n",
       "    </tr>\n",
       "    <tr>\n",
       "      <th>3</th>\n",
       "      <td>Senior Software Quality Control Engineer</td>\n",
       "      <td>Bnsights</td>\n",
       "      <td>https://wuzzuf.net/jobs/p/bbc5d1cb-33ff-4c10-a...</td>\n",
       "      <td>Full Time · Experienced · 3-5 Yrs of Exp · Com...</td>\n",
       "      <td>New Cairo, Cairo</td>\n",
       "      <td>Full Time</td>\n",
       "      <td>Experienced</td>\n",
       "    </tr>\n",
       "    <tr>\n",
       "      <th>4</th>\n",
       "      <td>Senior E-Commerce Software Developer (Magento 2)</td>\n",
       "      <td>shop4build</td>\n",
       "      <td>https://wuzzuf.net/jobs/p/2be88ac7-5a6c-4a5a-8...</td>\n",
       "      <td>Full Time · Part Time · Work From Home · Exper...</td>\n",
       "      <td>Maadi, Cairo</td>\n",
       "      <td>Full Time</td>\n",
       "      <td>Experienced</td>\n",
       "    </tr>\n",
       "  </tbody>\n",
       "</table>\n",
       "</div>"
      ],
      "text/plain": [
       "                                          job_title           company_name  \\\n",
       "0              Sales Supervisor - North Upper Egypt  PepsiCo International   \n",
       "1   Junior Technical Support Engineer - Upper Egypt        MigrationIT.com   \n",
       "2                                Software Developer     Rednet It Services   \n",
       "3          Senior Software Quality Control Engineer               Bnsights   \n",
       "4  Senior E-Commerce Software Developer (Magento 2)             shop4build   \n",
       "\n",
       "                                             job_URL  \\\n",
       "0  https://wuzzuf.net/jobs/p/cc5848eb-a2c4-4055-9...   \n",
       "1  https://wuzzuf.net/jobs/p/39a68f94-611c-4a07-9...   \n",
       "2  https://wuzzuf.net/jobs/p/7f3aec8d-1724-4f0c-9...   \n",
       "3  https://wuzzuf.net/jobs/p/bbc5d1cb-33ff-4c10-a...   \n",
       "4  https://wuzzuf.net/jobs/p/2be88ac7-5a6c-4a5a-8...   \n",
       "\n",
       "                                     job_description  company_location  \\\n",
       "0  Full Time · Manager · 1-3 Yrs of Exp · FMCG · ...  Beni Suef, Egypt   \n",
       "1  Full Time · Entry Level · 1-2 Yrs of Exp · ITI...     Assiut, Egypt   \n",
       "2  Full Time · Experienced · 2-3 Yrs of Exp · Sof...      Maadi, Cairo   \n",
       "3  Full Time · Experienced · 3-5 Yrs of Exp · Com...  New Cairo, Cairo   \n",
       "4  Full Time · Part Time · Work From Home · Exper...      Maadi, Cairo   \n",
       "\n",
       "    job_time    job_level  \n",
       "0  Full Time  Not defined  \n",
       "1  Full Time  Entry Level  \n",
       "2  Full Time  Experienced  \n",
       "3  Full Time  Experienced  \n",
       "4  Full Time  Experienced  "
      ]
     },
     "execution_count": 41,
     "metadata": {},
     "output_type": "execute_result"
    }
   ],
   "source": [
    "df_old20.drop(['#PAGE_URL','job-link'],axis=1 , inplace=True)\n",
    "df_old20.rename(columns={'title': 'job_title', 'company-name': 'company_name', 'job-link_link': 'job_URL', 'short-description-': 'job_description', 'location': 'company_location'} , inplace=True)\n",
    "#df_old20.dropna(inplace=True)\n",
    "df_old20.drop_duplicates(inplace=True)\n",
    "df_old20.head()"
   ]
  },
  {
   "cell_type": "code",
   "execution_count": 42,
   "metadata": {
    "hidden": true
   },
   "outputs": [
    {
     "data": {
      "text/html": [
       "<div>\n",
       "<style scoped>\n",
       "    .dataframe tbody tr th:only-of-type {\n",
       "        vertical-align: middle;\n",
       "    }\n",
       "\n",
       "    .dataframe tbody tr th {\n",
       "        vertical-align: top;\n",
       "    }\n",
       "\n",
       "    .dataframe thead th {\n",
       "        text-align: right;\n",
       "    }\n",
       "</style>\n",
       "<table border=\"1\" class=\"dataframe\">\n",
       "  <thead>\n",
       "    <tr style=\"text-align: right;\">\n",
       "      <th></th>\n",
       "      <th>job_title</th>\n",
       "      <th>company_name</th>\n",
       "      <th>job_URL</th>\n",
       "      <th>job_description</th>\n",
       "      <th>company_location</th>\n",
       "      <th>job_time</th>\n",
       "      <th>job_level</th>\n",
       "    </tr>\n",
       "  </thead>\n",
       "  <tbody>\n",
       "    <tr>\n",
       "      <th>0</th>\n",
       "      <td>Sales Supervisor - North Upper Egypt</td>\n",
       "      <td>PepsiCo International</td>\n",
       "      <td>https://wuzzuf.net/jobs/p/cc5848eb-a2c4-4055-9...</td>\n",
       "      <td>Full Time · Manager · 1-3 Yrs of Exp · FMCG · ...</td>\n",
       "      <td>Beni Suef, Egypt</td>\n",
       "      <td>Full Time</td>\n",
       "      <td>Not defined</td>\n",
       "    </tr>\n",
       "    <tr>\n",
       "      <th>1</th>\n",
       "      <td>Junior Technical Support Engineer - Upper Egypt</td>\n",
       "      <td>MigrationIT.com</td>\n",
       "      <td>https://wuzzuf.net/jobs/p/39a68f94-611c-4a07-9...</td>\n",
       "      <td>Full Time · Entry Level · 1-2 Yrs of Exp · ITI...</td>\n",
       "      <td>Assiut, Egypt</td>\n",
       "      <td>Full Time</td>\n",
       "      <td>Entry Level</td>\n",
       "    </tr>\n",
       "    <tr>\n",
       "      <th>2</th>\n",
       "      <td>Software Developer</td>\n",
       "      <td>Rednet It Services</td>\n",
       "      <td>https://wuzzuf.net/jobs/p/7f3aec8d-1724-4f0c-9...</td>\n",
       "      <td>Full Time · Experienced · 2-3 Yrs of Exp · Sof...</td>\n",
       "      <td>Maadi, Cairo</td>\n",
       "      <td>Full Time</td>\n",
       "      <td>Experienced</td>\n",
       "    </tr>\n",
       "    <tr>\n",
       "      <th>3</th>\n",
       "      <td>Senior Software Quality Control Engineer</td>\n",
       "      <td>Bnsights</td>\n",
       "      <td>https://wuzzuf.net/jobs/p/bbc5d1cb-33ff-4c10-a...</td>\n",
       "      <td>Full Time · Experienced · 3-5 Yrs of Exp · Com...</td>\n",
       "      <td>New Cairo, Cairo</td>\n",
       "      <td>Full Time</td>\n",
       "      <td>Experienced</td>\n",
       "    </tr>\n",
       "    <tr>\n",
       "      <th>4</th>\n",
       "      <td>Senior E-Commerce Software Developer (Magento 2)</td>\n",
       "      <td>shop4build</td>\n",
       "      <td>https://wuzzuf.net/jobs/p/2be88ac7-5a6c-4a5a-8...</td>\n",
       "      <td>Full Time · Part Time · Work From Home · Exper...</td>\n",
       "      <td>Maadi, Cairo</td>\n",
       "      <td>Full Time</td>\n",
       "      <td>Experienced</td>\n",
       "    </tr>\n",
       "  </tbody>\n",
       "</table>\n",
       "</div>"
      ],
      "text/plain": [
       "                                          job_title           company_name  \\\n",
       "0              Sales Supervisor - North Upper Egypt  PepsiCo International   \n",
       "1   Junior Technical Support Engineer - Upper Egypt        MigrationIT.com   \n",
       "2                                Software Developer     Rednet It Services   \n",
       "3          Senior Software Quality Control Engineer               Bnsights   \n",
       "4  Senior E-Commerce Software Developer (Magento 2)             shop4build   \n",
       "\n",
       "                                             job_URL  \\\n",
       "0  https://wuzzuf.net/jobs/p/cc5848eb-a2c4-4055-9...   \n",
       "1  https://wuzzuf.net/jobs/p/39a68f94-611c-4a07-9...   \n",
       "2  https://wuzzuf.net/jobs/p/7f3aec8d-1724-4f0c-9...   \n",
       "3  https://wuzzuf.net/jobs/p/bbc5d1cb-33ff-4c10-a...   \n",
       "4  https://wuzzuf.net/jobs/p/2be88ac7-5a6c-4a5a-8...   \n",
       "\n",
       "                                     job_description  company_location  \\\n",
       "0  Full Time · Manager · 1-3 Yrs of Exp · FMCG · ...  Beni Suef, Egypt   \n",
       "1  Full Time · Entry Level · 1-2 Yrs of Exp · ITI...     Assiut, Egypt   \n",
       "2  Full Time · Experienced · 2-3 Yrs of Exp · Sof...      Maadi, Cairo   \n",
       "3  Full Time · Experienced · 3-5 Yrs of Exp · Com...  New Cairo, Cairo   \n",
       "4  Full Time · Part Time · Work From Home · Exper...      Maadi, Cairo   \n",
       "\n",
       "    job_time    job_level  \n",
       "0  Full Time  Not defined  \n",
       "1  Full Time  Entry Level  \n",
       "2  Full Time  Experienced  \n",
       "3  Full Time  Experienced  \n",
       "4  Full Time  Experienced  "
      ]
     },
     "execution_count": 42,
     "metadata": {},
     "output_type": "execute_result"
    }
   ],
   "source": [
    "df_old20.head()"
   ]
  },
  {
   "cell_type": "markdown",
   "metadata": {
    "collapsed": true
   },
   "source": [
    "## 2014 to 2016 Data"
   ]
  },
  {
   "cell_type": "code",
   "execution_count": 90,
   "metadata": {},
   "outputs": [
    {
     "data": {
      "text/html": [
       "<div>\n",
       "<style scoped>\n",
       "    .dataframe tbody tr th:only-of-type {\n",
       "        vertical-align: middle;\n",
       "    }\n",
       "\n",
       "    .dataframe tbody tr th {\n",
       "        vertical-align: top;\n",
       "    }\n",
       "\n",
       "    .dataframe thead th {\n",
       "        text-align: right;\n",
       "    }\n",
       "</style>\n",
       "<table border=\"1\" class=\"dataframe\">\n",
       "  <thead>\n",
       "    <tr style=\"text-align: right;\">\n",
       "      <th></th>\n",
       "      <th>id</th>\n",
       "      <th>city</th>\n",
       "      <th>job_title</th>\n",
       "      <th>job_category1</th>\n",
       "      <th>job_category2</th>\n",
       "      <th>job_category3</th>\n",
       "      <th>job_industry1</th>\n",
       "      <th>job_industry2</th>\n",
       "      <th>job_industry3</th>\n",
       "      <th>salary_minimum</th>\n",
       "      <th>salary_maximum</th>\n",
       "      <th>num_vacancies</th>\n",
       "      <th>career_level</th>\n",
       "      <th>experience_years</th>\n",
       "      <th>post_date</th>\n",
       "      <th>views</th>\n",
       "      <th>job_description</th>\n",
       "      <th>job_requirements</th>\n",
       "      <th>payment_period</th>\n",
       "      <th>currency</th>\n",
       "    </tr>\n",
       "  </thead>\n",
       "  <tbody>\n",
       "    <tr>\n",
       "      <th>0</th>\n",
       "      <td>a361ef59</td>\n",
       "      <td>Cairo</td>\n",
       "      <td>German Training Coordinator</td>\n",
       "      <td>Customer Service/Support</td>\n",
       "      <td>Administration</td>\n",
       "      <td>Human Resources</td>\n",
       "      <td>Translation and Localization</td>\n",
       "      <td>Business Services - Other</td>\n",
       "      <td>Education</td>\n",
       "      <td>1000.0</td>\n",
       "      <td>5000.0</td>\n",
       "      <td>8.0</td>\n",
       "      <td>Entry Level</td>\n",
       "      <td>0-2</td>\n",
       "      <td>1/1/2014 20:01</td>\n",
       "      <td>2213.0</td>\n",
       "      <td>&lt;p&gt;&amp;bull;Placing jobs' ads on various websites...</td>\n",
       "      <td>NaN</td>\n",
       "      <td>Per Month</td>\n",
       "      <td>Egyptian Pound</td>\n",
       "    </tr>\n",
       "    <tr>\n",
       "      <th>1</th>\n",
       "      <td>7226ce78</td>\n",
       "      <td>Cairo</td>\n",
       "      <td>Junior Software Developer</td>\n",
       "      <td>IT/Software Development</td>\n",
       "      <td>Select</td>\n",
       "      <td>Select</td>\n",
       "      <td>Computer Software</td>\n",
       "      <td>Select</td>\n",
       "      <td>Select</td>\n",
       "      <td>2000.0</td>\n",
       "      <td>2500.0</td>\n",
       "      <td>1.0</td>\n",
       "      <td>Entry Level</td>\n",
       "      <td>2</td>\n",
       "      <td>1/2/2014 11:01</td>\n",
       "      <td>2940.0</td>\n",
       "      <td>&lt;span style=\"text-decoration: underline;\"&gt;&lt;str...</td>\n",
       "      <td>NaN</td>\n",
       "      <td>Per Month</td>\n",
       "      <td>Egyptian Pound</td>\n",
       "    </tr>\n",
       "    <tr>\n",
       "      <th>2</th>\n",
       "      <td>f4b2bcd6</td>\n",
       "      <td>Cairo</td>\n",
       "      <td>Application Support Engineer</td>\n",
       "      <td>IT/Software Development</td>\n",
       "      <td>Select</td>\n",
       "      <td>Select</td>\n",
       "      <td>Telecommunications Services</td>\n",
       "      <td>Select</td>\n",
       "      <td>Select</td>\n",
       "      <td>2000.0</td>\n",
       "      <td>3500.0</td>\n",
       "      <td>1.0</td>\n",
       "      <td>Entry Level</td>\n",
       "      <td>2-Jan</td>\n",
       "      <td>1/2/2014 12:01</td>\n",
       "      <td>2042.0</td>\n",
       "      <td>&lt;strong&gt;&lt;span style=\"text-decoration: underlin...</td>\n",
       "      <td>NaN</td>\n",
       "      <td>Per Month</td>\n",
       "      <td>Egyptian Pound</td>\n",
       "    </tr>\n",
       "    <tr>\n",
       "      <th>3</th>\n",
       "      <td>3fee6f73</td>\n",
       "      <td>Alexandria</td>\n",
       "      <td>Electrical Maintenance Engineer</td>\n",
       "      <td>Engineering</td>\n",
       "      <td>Select</td>\n",
       "      <td>Select</td>\n",
       "      <td>Food and Beverage Production</td>\n",
       "      <td>Select</td>\n",
       "      <td>Select</td>\n",
       "      <td>5000.0</td>\n",
       "      <td>8000.0</td>\n",
       "      <td>1.0</td>\n",
       "      <td>Experienced (Non-Manager)</td>\n",
       "      <td>3-Jan</td>\n",
       "      <td>1/21/2014 13:45</td>\n",
       "      <td>5684.0</td>\n",
       "      <td>Job Title: Electrical Maintenance Engineer&lt;br ...</td>\n",
       "      <td>NaN</td>\n",
       "      <td>Per Month</td>\n",
       "      <td>Egyptian Pound</td>\n",
       "    </tr>\n",
       "    <tr>\n",
       "      <th>4</th>\n",
       "      <td>22eb5fcb</td>\n",
       "      <td>Cairo</td>\n",
       "      <td>IT Adminstrator</td>\n",
       "      <td>IT/Software Development</td>\n",
       "      <td>Select</td>\n",
       "      <td>Select</td>\n",
       "      <td>Retail</td>\n",
       "      <td>Select</td>\n",
       "      <td>Select</td>\n",
       "      <td>3000.0</td>\n",
       "      <td>5000.0</td>\n",
       "      <td>1.0</td>\n",
       "      <td>Manager</td>\n",
       "      <td>5-Mar</td>\n",
       "      <td>1/2/2014 17:00</td>\n",
       "      <td>1644.0</td>\n",
       "      <td>&amp;bull; Maintain the IT Retail Management Syste...</td>\n",
       "      <td>NaN</td>\n",
       "      <td>Per Month</td>\n",
       "      <td>Egyptian Pound</td>\n",
       "    </tr>\n",
       "  </tbody>\n",
       "</table>\n",
       "</div>"
      ],
      "text/plain": [
       "         id        city                        job_title  \\\n",
       "0  a361ef59       Cairo     German Training Coordinator    \n",
       "1  7226ce78       Cairo       Junior Software Developer    \n",
       "2  f4b2bcd6       Cairo     Application Support Engineer   \n",
       "3  3fee6f73  Alexandria  Electrical Maintenance Engineer   \n",
       "4  22eb5fcb       Cairo                  IT Adminstrator   \n",
       "\n",
       "              job_category1   job_category2    job_category3  \\\n",
       "0  Customer Service/Support  Administration  Human Resources   \n",
       "1   IT/Software Development          Select           Select   \n",
       "2   IT/Software Development          Select           Select   \n",
       "3               Engineering          Select           Select   \n",
       "4   IT/Software Development          Select           Select   \n",
       "\n",
       "                     job_industry1              job_industry2 job_industry3  \\\n",
       "0  Translation and Localization     Business Services - Other     Education   \n",
       "1                Computer Software                     Select        Select   \n",
       "2      Telecommunications Services                     Select        Select   \n",
       "3     Food and Beverage Production                     Select        Select   \n",
       "4                           Retail                     Select        Select   \n",
       "\n",
       "   salary_minimum  salary_maximum  num_vacancies               career_level  \\\n",
       "0          1000.0          5000.0            8.0                Entry Level   \n",
       "1          2000.0          2500.0            1.0                Entry Level   \n",
       "2          2000.0          3500.0            1.0                Entry Level   \n",
       "3          5000.0          8000.0            1.0  Experienced (Non-Manager)   \n",
       "4          3000.0          5000.0            1.0                    Manager   \n",
       "\n",
       "  experience_years        post_date   views  \\\n",
       "0              0-2   1/1/2014 20:01  2213.0   \n",
       "1                2   1/2/2014 11:01  2940.0   \n",
       "2            2-Jan   1/2/2014 12:01  2042.0   \n",
       "3            3-Jan  1/21/2014 13:45  5684.0   \n",
       "4            5-Mar   1/2/2014 17:00  1644.0   \n",
       "\n",
       "                                     job_description job_requirements  \\\n",
       "0  <p>&bull;Placing jobs' ads on various websites...              NaN   \n",
       "1  <span style=\"text-decoration: underline;\"><str...              NaN   \n",
       "2  <strong><span style=\"text-decoration: underlin...              NaN   \n",
       "3  Job Title: Electrical Maintenance Engineer<br ...              NaN   \n",
       "4  &bull; Maintain the IT Retail Management Syste...              NaN   \n",
       "\n",
       "  payment_period        currency  \n",
       "0      Per Month  Egyptian Pound  \n",
       "1      Per Month  Egyptian Pound  \n",
       "2      Per Month  Egyptian Pound  \n",
       "3      Per Month  Egyptian Pound  \n",
       "4      Per Month  Egyptian Pound  "
      ]
     },
     "execution_count": 90,
     "metadata": {},
     "output_type": "execute_result"
    }
   ],
   "source": [
    "# read the csv file with the 2014 to 2016 data\n",
    "df_old16 = pd.read_csv(\"Wuzzuf14-16.csv\" , skiprows=range(1,2))\n",
    "df_old16.head()"
   ]
  },
  {
   "cell_type": "code",
   "execution_count": 91,
   "metadata": {},
   "outputs": [],
   "source": [
    "df_old16.rename(columns={'career_level': 'job_level'} , inplace=True)"
   ]
  },
  {
   "cell_type": "code",
   "execution_count": 92,
   "metadata": {},
   "outputs": [
    {
     "data": {
      "text/plain": [
       "(21921, 20)"
      ]
     },
     "execution_count": 92,
     "metadata": {},
     "output_type": "execute_result"
    }
   ],
   "source": [
    "df_old16.shape"
   ]
  },
  {
   "cell_type": "markdown",
   "metadata": {},
   "source": [
    "### Cleaning and adjustments"
   ]
  },
  {
   "cell_type": "code",
   "execution_count": 93,
   "metadata": {},
   "outputs": [
    {
     "data": {
      "text/html": [
       "<div>\n",
       "<style scoped>\n",
       "    .dataframe tbody tr th:only-of-type {\n",
       "        vertical-align: middle;\n",
       "    }\n",
       "\n",
       "    .dataframe tbody tr th {\n",
       "        vertical-align: top;\n",
       "    }\n",
       "\n",
       "    .dataframe thead th {\n",
       "        text-align: right;\n",
       "    }\n",
       "</style>\n",
       "<table border=\"1\" class=\"dataframe\">\n",
       "  <thead>\n",
       "    <tr style=\"text-align: right;\">\n",
       "      <th></th>\n",
       "      <th>company_location</th>\n",
       "      <th>job_title</th>\n",
       "      <th>job_level</th>\n",
       "      <th>job_description</th>\n",
       "    </tr>\n",
       "  </thead>\n",
       "  <tbody>\n",
       "    <tr>\n",
       "      <th>1</th>\n",
       "      <td>Cairo</td>\n",
       "      <td>Junior Software Developer</td>\n",
       "      <td>Entry Level</td>\n",
       "      <td>&lt;span style=\"text-decoration: underline;\"&gt;&lt;str...</td>\n",
       "    </tr>\n",
       "    <tr>\n",
       "      <th>2</th>\n",
       "      <td>Cairo</td>\n",
       "      <td>Application Support Engineer</td>\n",
       "      <td>Entry Level</td>\n",
       "      <td>&lt;strong&gt;&lt;span style=\"text-decoration: underlin...</td>\n",
       "    </tr>\n",
       "    <tr>\n",
       "      <th>3</th>\n",
       "      <td>Alexandria</td>\n",
       "      <td>Electrical Maintenance Engineer</td>\n",
       "      <td>Experienced (Non-Manager)</td>\n",
       "      <td>Job Title: Electrical Maintenance Engineer&lt;br ...</td>\n",
       "    </tr>\n",
       "    <tr>\n",
       "      <th>4</th>\n",
       "      <td>Cairo</td>\n",
       "      <td>IT Adminstrator</td>\n",
       "      <td>Manager</td>\n",
       "      <td>&amp;bull; Maintain the IT Retail Management Syste...</td>\n",
       "    </tr>\n",
       "    <tr>\n",
       "      <th>5</th>\n",
       "      <td>6 th of October city</td>\n",
       "      <td>e-payments System Administrator</td>\n",
       "      <td>Experienced (Non-Manager)</td>\n",
       "      <td>&lt;p&gt;1-Configure and Archive Data for the banks ...</td>\n",
       "    </tr>\n",
       "  </tbody>\n",
       "</table>\n",
       "</div>"
      ],
      "text/plain": [
       "       company_location                        job_title  \\\n",
       "1                 Cairo       Junior Software Developer    \n",
       "2                 Cairo     Application Support Engineer   \n",
       "3            Alexandria  Electrical Maintenance Engineer   \n",
       "4                 Cairo                  IT Adminstrator   \n",
       "5  6 th of October city  e-payments System Administrator   \n",
       "\n",
       "                   job_level  \\\n",
       "1                Entry Level   \n",
       "2                Entry Level   \n",
       "3  Experienced (Non-Manager)   \n",
       "4                    Manager   \n",
       "5  Experienced (Non-Manager)   \n",
       "\n",
       "                                     job_description  \n",
       "1  <span style=\"text-decoration: underline;\"><str...  \n",
       "2  <strong><span style=\"text-decoration: underlin...  \n",
       "3  Job Title: Electrical Maintenance Engineer<br ...  \n",
       "4  &bull; Maintain the IT Retail Management Syste...  \n",
       "5  <p>1-Configure and Archive Data for the banks ...  "
      ]
     },
     "execution_count": 93,
     "metadata": {},
     "output_type": "execute_result"
    }
   ],
   "source": [
    "df_old16.drop(['id','job_category1' ,'job_category2','job_category3','job_industry1',\n",
    "               'job_industry2','job_industry3','salary_minimum','salary_maximum',\n",
    "              'num_vacancies','experience_years','post_date','views',\n",
    "              'job_requirements','payment_period','currency'],axis=1 , inplace=True)\n",
    "df_old16.drop(0 ,inplace=True)\n",
    "df_old16.rename(columns={'city': 'company_location'} , inplace=True)\n",
    "df_old16.dropna(inplace=True)\n",
    "df_old16.drop_duplicates(inplace=True)\n",
    "df_old16.head()"
   ]
  },
  {
   "cell_type": "code",
   "execution_count": 94,
   "metadata": {},
   "outputs": [
    {
     "data": {
      "text/plain": [
       "Index(['job_title', 'company_name', 'job_URL', 'job_description',\n",
       "       'company_location', 'job_time', 'job_level'],\n",
       "      dtype='object')"
      ]
     },
     "execution_count": 94,
     "metadata": {},
     "output_type": "execute_result"
    }
   ],
   "source": [
    "df_old20.columns"
   ]
  },
  {
   "cell_type": "markdown",
   "metadata": {},
   "source": [
    "## Merging all the data"
   ]
  },
  {
   "cell_type": "code",
   "execution_count": 95,
   "metadata": {},
   "outputs": [
    {
     "data": {
      "text/html": [
       "<div>\n",
       "<style scoped>\n",
       "    .dataframe tbody tr th:only-of-type {\n",
       "        vertical-align: middle;\n",
       "    }\n",
       "\n",
       "    .dataframe tbody tr th {\n",
       "        vertical-align: top;\n",
       "    }\n",
       "\n",
       "    .dataframe thead th {\n",
       "        text-align: right;\n",
       "    }\n",
       "</style>\n",
       "<table border=\"1\" class=\"dataframe\">\n",
       "  <thead>\n",
       "    <tr style=\"text-align: right;\">\n",
       "      <th></th>\n",
       "      <th>job_URL</th>\n",
       "      <th>job_title</th>\n",
       "      <th>company_name</th>\n",
       "      <th>company_location</th>\n",
       "      <th>job_description</th>\n",
       "      <th>job_time</th>\n",
       "      <th>job_level</th>\n",
       "    </tr>\n",
       "  </thead>\n",
       "  <tbody>\n",
       "    <tr>\n",
       "      <th>0</th>\n",
       "      <td>https://wuzzuf.net/jobs/p/1623d22c-3de2-455a-a...</td>\n",
       "      <td>Business Development Specialist - Upper Egypt</td>\n",
       "      <td>golden</td>\n",
       "      <td>- Aswan- Egypt</td>\n",
       "      <td>Full Time · Experienced · 2+ Yrs of Exp · Bus...</td>\n",
       "      <td>Full Time</td>\n",
       "      <td>Experienced</td>\n",
       "    </tr>\n",
       "    <tr>\n",
       "      <th>1</th>\n",
       "      <td>https://wuzzuf.net/jobs/p/0efb55cc-3264-47b4-...</td>\n",
       "      <td>Senior/Intermediate .NET Core Developer (Remo...</td>\n",
       "      <td>Confidential</td>\n",
       "      <td>- Cairo- Egypt</td>\n",
       "      <td>Full Time · Experienced · 4+ Yrs of Exp · Sof...</td>\n",
       "      <td>Full Time</td>\n",
       "      <td>Experienced</td>\n",
       "    </tr>\n",
       "    <tr>\n",
       "      <th>2</th>\n",
       "      <td>https://wuzzuf.net/jobs/p/d76caa63-bc76-4839-...</td>\n",
       "      <td>Senior Software Developer</td>\n",
       "      <td>Bnsights</td>\n",
       "      <td>- New Cairo- Cairo</td>\n",
       "      <td>Full Time · Experienced · 6-10 Yrs of Exp · S...</td>\n",
       "      <td>Full Time</td>\n",
       "      <td>Experienced</td>\n",
       "    </tr>\n",
       "    <tr>\n",
       "      <th>3</th>\n",
       "      <td>https://wuzzuf.net/jobs/p/2ffe3403-b147-4b38-...</td>\n",
       "      <td>Software Developer / Desktop Development</td>\n",
       "      <td>ITS</td>\n",
       "      <td>- Nasr City- Cairo</td>\n",
       "      <td>Full Time · Entry Level · 0-2 Yrs of Exp · Co...</td>\n",
       "      <td>Full Time</td>\n",
       "      <td>Entry Level</td>\n",
       "    </tr>\n",
       "    <tr>\n",
       "      <th>4</th>\n",
       "      <td>https://wuzzuf.net/jobs/p/b6ae6a6a-47b8-47f7-...</td>\n",
       "      <td>Senior Software Developer -Dynamics 365...</td>\n",
       "      <td>CrossWorkers</td>\n",
       "      <td>- New Cairo- Cairo</td>\n",
       "      <td>Full Time · Experienced · 4-12 Yrs of Exp · A...</td>\n",
       "      <td>Full Time</td>\n",
       "      <td>Experienced</td>\n",
       "    </tr>\n",
       "  </tbody>\n",
       "</table>\n",
       "</div>"
      ],
      "text/plain": [
       "                                             job_URL  \\\n",
       "0  https://wuzzuf.net/jobs/p/1623d22c-3de2-455a-a...   \n",
       "1   https://wuzzuf.net/jobs/p/0efb55cc-3264-47b4-...   \n",
       "2   https://wuzzuf.net/jobs/p/d76caa63-bc76-4839-...   \n",
       "3   https://wuzzuf.net/jobs/p/2ffe3403-b147-4b38-...   \n",
       "4   https://wuzzuf.net/jobs/p/b6ae6a6a-47b8-47f7-...   \n",
       "\n",
       "                                           job_title   company_name  \\\n",
       "0      Business Development Specialist - Upper Egypt         golden   \n",
       "1   Senior/Intermediate .NET Core Developer (Remo...   Confidential   \n",
       "2                          Senior Software Developer       Bnsights   \n",
       "3           Software Developer / Desktop Development            ITS   \n",
       "4         Senior Software Developer -Dynamics 365...   CrossWorkers   \n",
       "\n",
       "      company_location                                    job_description  \\\n",
       "0       - Aswan- Egypt   Full Time · Experienced · 2+ Yrs of Exp · Bus...   \n",
       "1       - Cairo- Egypt   Full Time · Experienced · 4+ Yrs of Exp · Sof...   \n",
       "2   - New Cairo- Cairo   Full Time · Experienced · 6-10 Yrs of Exp · S...   \n",
       "3   - Nasr City- Cairo   Full Time · Entry Level · 0-2 Yrs of Exp · Co...   \n",
       "4   - New Cairo- Cairo   Full Time · Experienced · 4-12 Yrs of Exp · A...   \n",
       "\n",
       "    job_time    job_level  \n",
       "0  Full Time  Experienced  \n",
       "1  Full Time  Experienced  \n",
       "2  Full Time  Experienced  \n",
       "3  Full Time  Entry Level  \n",
       "4  Full Time  Experienced  "
      ]
     },
     "execution_count": 95,
     "metadata": {},
     "output_type": "execute_result"
    }
   ],
   "source": [
    "result = df.append([df,df_old20, df_old16])\n",
    "result.head()"
   ]
  },
  {
   "cell_type": "code",
   "execution_count": 96,
   "metadata": {},
   "outputs": [
    {
     "data": {
      "text/plain": [
       "(20607, 7)"
      ]
     },
     "execution_count": 96,
     "metadata": {},
     "output_type": "execute_result"
    }
   ],
   "source": [
    "result.shape"
   ]
  },
  {
   "cell_type": "code",
   "execution_count": 97,
   "metadata": {},
   "outputs": [
    {
     "data": {
      "text/plain": [
       "job_URL             12771\n",
       "job_title               0\n",
       "company_name        12771\n",
       "company_location        0\n",
       "job_description         0\n",
       "job_time            12771\n",
       "job_level               0\n",
       "dtype: int64"
      ]
     },
     "execution_count": 97,
     "metadata": {},
     "output_type": "execute_result"
    }
   ],
   "source": [
    "# check for null\n",
    "result.isna().sum()"
   ]
  },
  {
   "cell_type": "code",
   "execution_count": 98,
   "metadata": {},
   "outputs": [
    {
     "data": {
      "text/plain": [
       "2638"
      ]
     },
     "execution_count": 98,
     "metadata": {},
     "output_type": "execute_result"
    }
   ],
   "source": [
    "#check for duplicates\n",
    "result.duplicated().sum()"
   ]
  },
  {
   "cell_type": "markdown",
   "metadata": {},
   "source": [
    "### Cleaning and adjustments"
   ]
  },
  {
   "cell_type": "code",
   "execution_count": 99,
   "metadata": {
    "code_folding": []
   },
   "outputs": [],
   "source": [
    "#result.dropna(inplace=True)\n",
    "result.drop_duplicates(inplace=True)"
   ]
  },
  {
   "cell_type": "code",
   "execution_count": 100,
   "metadata": {},
   "outputs": [
    {
     "data": {
      "text/plain": [
       "(17969, 7)"
      ]
     },
     "execution_count": 100,
     "metadata": {},
     "output_type": "execute_result"
    }
   ],
   "source": [
    "result.shape"
   ]
  },
  {
   "cell_type": "markdown",
   "metadata": {},
   "source": [
    "## Analysis"
   ]
  },
  {
   "cell_type": "code",
   "execution_count": 101,
   "metadata": {},
   "outputs": [
    {
     "data": {
      "image/png": "[encoded data removed]",
      "text/plain": [
       "<Figure size 432x288 with 1 Axes>"
      ]
     },
     "metadata": {
      "needs_background": "light"
     },
     "output_type": "display_data"
    }
   ],
   "source": [
    "result.company_location.value_counts().sort_values(ascending=False)[12::-1].plot(kind = 'bar');"
   ]
  },
  {
   "cell_type": "code",
   "execution_count": 102,
   "metadata": {},
   "outputs": [
    {
     "data": {
      "image/png": "[encoded data removed]",
      "text/plain": [
       "<Figure size 432x288 with 1 Axes>"
      ]
     },
     "metadata": {
      "needs_background": "light"
     },
     "output_type": "display_data"
    }
   ],
   "source": [
    "result.company_name.value_counts().sort_values(ascending=False)[12::-1].plot(kind = 'bar');"
   ]
  },
  {
   "cell_type": "code",
   "execution_count": 103,
   "metadata": {
    "scrolled": false
   },
   "outputs": [
    {
     "data": {
      "image/png": "[encoded data removed]",
      "text/plain": [
       "<Figure size 432x288 with 1 Axes>"
      ]
     },
     "metadata": {},
     "output_type": "display_data"
    }
   ],
   "source": [
    "result.company_name.value_counts().sort_values(ascending=False)[7::-1].plot(kind ='pie');"
   ]
  },
  {
   "cell_type": "code",
   "execution_count": 104,
   "metadata": {},
   "outputs": [
    {
     "data": {
      "image/png": "[encoded data removed]",
      "text/plain": [
       "<Figure size 432x288 with 1 Axes>"
      ]
     },
     "metadata": {},
     "output_type": "display_data"
    }
   ],
   "source": [
    "result.job_title.value_counts().sort_values(ascending=False)[12::-1].plot(kind ='pie');"
   ]
  },
  {
   "cell_type": "code",
   "execution_count": 106,
   "metadata": {},
   "outputs": [
    {
     "data": {
      "image/png": "[encoded data removed]",
      "text/plain": [
       "<Figure size 432x288 with 1 Axes>"
      ]
     },
     "metadata": {},
     "output_type": "display_data"
    }
   ],
   "source": [
    "result.job_level.value_counts().sort_values(ascending=False)[10::-1].plot(kind ='pie');"
   ]
  },
  {
   "cell_type": "code",
   "execution_count": 107,
   "metadata": {},
   "outputs": [
    {
     "data": {
      "image/png": "[encoded data removed]",
      "text/plain": [
       "<Figure size 432x288 with 1 Axes>"
      ]
     },
     "metadata": {
      "needs_background": "light"
     },
     "output_type": "display_data"
    }
   ],
   "source": [
    "result.job_level.value_counts().sort_values(ascending=False)[12::-1].plot(kind = 'bar');"
   ]
  },
  {
   "cell_type": "code",
   "execution_count": null,
   "metadata": {},
   "outputs": [],
   "source": []
  }
 ],
 "metadata": {
  "kernelspec": {
   "display_name": "Python 3",
   "language": "python",
   "name": "python3"
  },
  "language_info": {
   "codemirror_mode": {
    "name": "ipython",
    "version": 3
   },
   "file_extension": ".py",
   "mimetype": "text/x-python",
   "name": "python",
   "nbconvert_exporter": "python",
   "pygments_lexer": "ipython3",
   "version": "3.8.5"
  },
  "toc": {
   "base_numbering": 1,
   "nav_menu": {},
   "number_sections": true,
   "sideBar": true,
   "skip_h1_title": false,
   "title_cell": "Table of Contents",
   "title_sidebar": "Contents",
   "toc_cell": false,
   "toc_position": {
    "height": "calc(100% - 180px)",
    "left": "10px",
    "top": "150px",
    "width": "204.8px"
   },
   "toc_section_display": true,
   "toc_window_display": false
  }
 },
 "nbformat": 4,
 "nbformat_minor": 2
}
